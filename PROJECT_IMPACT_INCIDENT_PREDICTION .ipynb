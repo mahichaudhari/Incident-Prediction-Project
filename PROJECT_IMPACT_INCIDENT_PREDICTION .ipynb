{
 "cells": [
  {
   "cell_type": "markdown",
   "metadata": {
    "id": "duiH4_CdNly3"
   },
   "source": [
    "## Import dependencies"
   ]
  },
  {
   "cell_type": "code",
   "execution_count": 1,
   "metadata": {
    "id": "xxkn5JgmGtpm"
   },
   "outputs": [],
   "source": [
    "import pandas as pd\n",
    "import numpy as np\n",
    "import matplotlib.pyplot as plt\n",
    "import seaborn as sns\n",
    "%matplotlib inline"
   ]
  },
  {
   "cell_type": "markdown",
   "metadata": {
    "id": "WX4JqbvbNly-"
   },
   "source": [
    "## Load the dataset"
   ]
  },
  {
   "cell_type": "code",
   "execution_count": 2,
   "metadata": {
    "colab": {
     "base_uri": "https://localhost:8080/",
     "height": 312
    },
    "id": "W0pBjRa_AF4r",
    "outputId": "7d26a9ab-3369-405a-f91a-80ac905746d1"
   },
   "outputs": [
    {
     "data": {
      "text/html": [
       "<div>\n",
       "<style scoped>\n",
       "    .dataframe tbody tr th:only-of-type {\n",
       "        vertical-align: middle;\n",
       "    }\n",
       "\n",
       "    .dataframe tbody tr th {\n",
       "        vertical-align: top;\n",
       "    }\n",
       "\n",
       "    .dataframe thead th {\n",
       "        text-align: right;\n",
       "    }\n",
       "</style>\n",
       "<table border=\"1\" class=\"dataframe\">\n",
       "  <thead>\n",
       "    <tr style=\"text-align: right;\">\n",
       "      <th></th>\n",
       "      <th>number</th>\n",
       "      <th>incident_state</th>\n",
       "      <th>active</th>\n",
       "      <th>reassignment_count</th>\n",
       "      <th>reopen_count</th>\n",
       "      <th>sys_mod_count</th>\n",
       "      <th>made_sla</th>\n",
       "      <th>caller_id</th>\n",
       "      <th>opened_by</th>\n",
       "      <th>opened_at</th>\n",
       "      <th>...</th>\n",
       "      <th>u_priority_confirmation</th>\n",
       "      <th>notify</th>\n",
       "      <th>problem_id</th>\n",
       "      <th>rfc</th>\n",
       "      <th>vendor</th>\n",
       "      <th>caused_by</th>\n",
       "      <th>closed_code</th>\n",
       "      <th>resolved_by</th>\n",
       "      <th>resolved_at</th>\n",
       "      <th>closed_at</th>\n",
       "    </tr>\n",
       "  </thead>\n",
       "  <tbody>\n",
       "    <tr>\n",
       "      <th>0</th>\n",
       "      <td>INC0000045</td>\n",
       "      <td>New</td>\n",
       "      <td>True</td>\n",
       "      <td>0</td>\n",
       "      <td>0</td>\n",
       "      <td>0</td>\n",
       "      <td>True</td>\n",
       "      <td>Caller 2403</td>\n",
       "      <td>Opened by  8</td>\n",
       "      <td>29/2/2016 01:16</td>\n",
       "      <td>...</td>\n",
       "      <td>False</td>\n",
       "      <td>Do Not Notify</td>\n",
       "      <td>?</td>\n",
       "      <td>?</td>\n",
       "      <td>?</td>\n",
       "      <td>?</td>\n",
       "      <td>code 5</td>\n",
       "      <td>Resolved by 149</td>\n",
       "      <td>29/2/2016 11:29</td>\n",
       "      <td>5/3/2016 12:00</td>\n",
       "    </tr>\n",
       "    <tr>\n",
       "      <th>1</th>\n",
       "      <td>INC0000045</td>\n",
       "      <td>Resolved</td>\n",
       "      <td>True</td>\n",
       "      <td>0</td>\n",
       "      <td>0</td>\n",
       "      <td>2</td>\n",
       "      <td>True</td>\n",
       "      <td>Caller 2403</td>\n",
       "      <td>Opened by  8</td>\n",
       "      <td>29/2/2016 01:16</td>\n",
       "      <td>...</td>\n",
       "      <td>False</td>\n",
       "      <td>Do Not Notify</td>\n",
       "      <td>?</td>\n",
       "      <td>?</td>\n",
       "      <td>?</td>\n",
       "      <td>?</td>\n",
       "      <td>code 5</td>\n",
       "      <td>Resolved by 149</td>\n",
       "      <td>29/2/2016 11:29</td>\n",
       "      <td>5/3/2016 12:00</td>\n",
       "    </tr>\n",
       "    <tr>\n",
       "      <th>2</th>\n",
       "      <td>INC0000045</td>\n",
       "      <td>Resolved</td>\n",
       "      <td>True</td>\n",
       "      <td>0</td>\n",
       "      <td>0</td>\n",
       "      <td>3</td>\n",
       "      <td>True</td>\n",
       "      <td>Caller 2403</td>\n",
       "      <td>Opened by  8</td>\n",
       "      <td>29/2/2016 01:16</td>\n",
       "      <td>...</td>\n",
       "      <td>False</td>\n",
       "      <td>Do Not Notify</td>\n",
       "      <td>?</td>\n",
       "      <td>?</td>\n",
       "      <td>?</td>\n",
       "      <td>?</td>\n",
       "      <td>code 5</td>\n",
       "      <td>Resolved by 149</td>\n",
       "      <td>29/2/2016 11:29</td>\n",
       "      <td>5/3/2016 12:00</td>\n",
       "    </tr>\n",
       "    <tr>\n",
       "      <th>3</th>\n",
       "      <td>INC0000045</td>\n",
       "      <td>Closed</td>\n",
       "      <td>False</td>\n",
       "      <td>0</td>\n",
       "      <td>0</td>\n",
       "      <td>4</td>\n",
       "      <td>True</td>\n",
       "      <td>Caller 2403</td>\n",
       "      <td>Opened by  8</td>\n",
       "      <td>29/2/2016 01:16</td>\n",
       "      <td>...</td>\n",
       "      <td>False</td>\n",
       "      <td>Do Not Notify</td>\n",
       "      <td>?</td>\n",
       "      <td>?</td>\n",
       "      <td>?</td>\n",
       "      <td>?</td>\n",
       "      <td>code 5</td>\n",
       "      <td>Resolved by 149</td>\n",
       "      <td>29/2/2016 11:29</td>\n",
       "      <td>5/3/2016 12:00</td>\n",
       "    </tr>\n",
       "    <tr>\n",
       "      <th>4</th>\n",
       "      <td>INC0000047</td>\n",
       "      <td>New</td>\n",
       "      <td>True</td>\n",
       "      <td>0</td>\n",
       "      <td>0</td>\n",
       "      <td>0</td>\n",
       "      <td>True</td>\n",
       "      <td>Caller 2403</td>\n",
       "      <td>Opened by  397</td>\n",
       "      <td>29/2/2016 04:40</td>\n",
       "      <td>...</td>\n",
       "      <td>False</td>\n",
       "      <td>Do Not Notify</td>\n",
       "      <td>?</td>\n",
       "      <td>?</td>\n",
       "      <td>?</td>\n",
       "      <td>?</td>\n",
       "      <td>code 5</td>\n",
       "      <td>Resolved by 81</td>\n",
       "      <td>1/3/2016 09:52</td>\n",
       "      <td>6/3/2016 10:00</td>\n",
       "    </tr>\n",
       "  </tbody>\n",
       "</table>\n",
       "<p>5 rows × 36 columns</p>\n",
       "</div>"
      ],
      "text/plain": [
       "       number incident_state  active  reassignment_count  reopen_count  \\\n",
       "0  INC0000045            New    True                   0             0   \n",
       "1  INC0000045       Resolved    True                   0             0   \n",
       "2  INC0000045       Resolved    True                   0             0   \n",
       "3  INC0000045         Closed   False                   0             0   \n",
       "4  INC0000047            New    True                   0             0   \n",
       "\n",
       "   sys_mod_count  made_sla    caller_id       opened_by        opened_at  ...  \\\n",
       "0              0      True  Caller 2403    Opened by  8  29/2/2016 01:16  ...   \n",
       "1              2      True  Caller 2403    Opened by  8  29/2/2016 01:16  ...   \n",
       "2              3      True  Caller 2403    Opened by  8  29/2/2016 01:16  ...   \n",
       "3              4      True  Caller 2403    Opened by  8  29/2/2016 01:16  ...   \n",
       "4              0      True  Caller 2403  Opened by  397  29/2/2016 04:40  ...   \n",
       "\n",
       "  u_priority_confirmation         notify problem_id rfc vendor caused_by  \\\n",
       "0                   False  Do Not Notify          ?   ?      ?         ?   \n",
       "1                   False  Do Not Notify          ?   ?      ?         ?   \n",
       "2                   False  Do Not Notify          ?   ?      ?         ?   \n",
       "3                   False  Do Not Notify          ?   ?      ?         ?   \n",
       "4                   False  Do Not Notify          ?   ?      ?         ?   \n",
       "\n",
       "  closed_code      resolved_by      resolved_at       closed_at  \n",
       "0      code 5  Resolved by 149  29/2/2016 11:29  5/3/2016 12:00  \n",
       "1      code 5  Resolved by 149  29/2/2016 11:29  5/3/2016 12:00  \n",
       "2      code 5  Resolved by 149  29/2/2016 11:29  5/3/2016 12:00  \n",
       "3      code 5  Resolved by 149  29/2/2016 11:29  5/3/2016 12:00  \n",
       "4      code 5   Resolved by 81   1/3/2016 09:52  6/3/2016 10:00  \n",
       "\n",
       "[5 rows x 36 columns]"
      ]
     },
     "execution_count": 2,
     "metadata": {},
     "output_type": "execute_result"
    }
   ],
   "source": [
    "event=pd.read_csv(r\"C:\\Users\\Mahesh\\Desktop\\DS Project\\incident_event_log.csv\")\n",
    "event.head()"
   ]
  },
  {
   "cell_type": "markdown",
   "metadata": {
    "id": "oAWFddkAEfpY"
   },
   "source": [
    "We have '?' in some of the columns and we have to replace it with nan values."
   ]
  },
  {
   "cell_type": "code",
   "execution_count": 3,
   "metadata": {
    "colab": {
     "base_uri": "https://localhost:8080/"
    },
    "id": "2YcHNgW_ASTQ",
    "outputId": "318b2251-03fc-47f9-9c1d-987b4cfaca62"
   },
   "outputs": [
    {
     "data": {
      "text/plain": [
       "(141712, 36)"
      ]
     },
     "execution_count": 3,
     "metadata": {},
     "output_type": "execute_result"
    }
   ],
   "source": [
    "event.shape"
   ]
  },
  {
   "cell_type": "markdown",
   "metadata": {
    "id": "-o92c0xHE4lT"
   },
   "source": [
    "There are 1,41,712 rows and 32 columns in our dataset"
   ]
  },
  {
   "cell_type": "code",
   "execution_count": 4,
   "metadata": {
    "colab": {
     "base_uri": "https://localhost:8080/"
    },
    "id": "TAFKksePEydB",
    "outputId": "c8468f1a-b797-49a6-8b7e-93363e022a20"
   },
   "outputs": [
    {
     "data": {
      "text/plain": [
       "Index(['number', 'incident_state', 'active', 'reassignment_count',\n",
       "       'reopen_count', 'sys_mod_count', 'made_sla', 'caller_id', 'opened_by',\n",
       "       'opened_at', 'sys_created_by', 'sys_created_at', 'sys_updated_by',\n",
       "       'sys_updated_at', 'contact_type', 'location', 'category', 'subcategory',\n",
       "       'u_symptom', 'cmdb_ci', 'impact', 'urgency', 'priority',\n",
       "       'assignment_group', 'assigned_to', 'knowledge',\n",
       "       'u_priority_confirmation', 'notify', 'problem_id', 'rfc', 'vendor',\n",
       "       'caused_by', 'closed_code', 'resolved_by', 'resolved_at', 'closed_at'],\n",
       "      dtype='object')"
      ]
     },
     "execution_count": 4,
     "metadata": {},
     "output_type": "execute_result"
    }
   ],
   "source": [
    "event.columns"
   ]
  },
  {
   "cell_type": "code",
   "execution_count": 5,
   "metadata": {
    "colab": {
     "base_uri": "https://localhost:8080/"
    },
    "id": "I6YZYSkDASQY",
    "outputId": "35046b31-e621-48f5-b8bf-ed9c7f418b09"
   },
   "outputs": [
    {
     "data": {
      "text/plain": [
       "0"
      ]
     },
     "execution_count": 5,
     "metadata": {},
     "output_type": "execute_result"
    }
   ],
   "source": [
    "event.duplicated().sum()"
   ]
  },
  {
   "cell_type": "markdown",
   "metadata": {
    "id": "LNFqPVruE-fh"
   },
   "source": [
    "There are no duplicated entries."
   ]
  },
  {
   "cell_type": "code",
   "execution_count": 6,
   "metadata": {
    "colab": {
     "base_uri": "https://localhost:8080/"
    },
    "id": "scOp49n4nNEp",
    "outputId": "8eaee3d3-9c45-476e-cdcf-88906d978545"
   },
   "outputs": [
    {
     "data": {
      "text/plain": [
       "number                     object\n",
       "incident_state             object\n",
       "active                       bool\n",
       "reassignment_count          int64\n",
       "reopen_count                int64\n",
       "sys_mod_count               int64\n",
       "made_sla                     bool\n",
       "caller_id                  object\n",
       "opened_by                  object\n",
       "opened_at                  object\n",
       "sys_created_by             object\n",
       "sys_created_at             object\n",
       "sys_updated_by             object\n",
       "sys_updated_at             object\n",
       "contact_type               object\n",
       "location                   object\n",
       "category                   object\n",
       "subcategory                object\n",
       "u_symptom                  object\n",
       "cmdb_ci                    object\n",
       "impact                     object\n",
       "urgency                    object\n",
       "priority                   object\n",
       "assignment_group           object\n",
       "assigned_to                object\n",
       "knowledge                    bool\n",
       "u_priority_confirmation      bool\n",
       "notify                     object\n",
       "problem_id                 object\n",
       "rfc                        object\n",
       "vendor                     object\n",
       "caused_by                  object\n",
       "closed_code                object\n",
       "resolved_by                object\n",
       "resolved_at                object\n",
       "closed_at                  object\n",
       "dtype: object"
      ]
     },
     "execution_count": 6,
     "metadata": {},
     "output_type": "execute_result"
    }
   ],
   "source": [
    "#Get the data types of all the features\n",
    "event.dtypes"
   ]
  },
  {
   "cell_type": "code",
   "execution_count": 7,
   "metadata": {
    "colab": {
     "base_uri": "https://localhost:8080/"
    },
    "id": "5zTZweCMKQe6",
    "outputId": "6848ad4f-14ea-4f27-b25f-a7f54504a565"
   },
   "outputs": [
    {
     "name": "stdout",
     "output_type": "stream",
     "text": [
      "<class 'pandas.core.frame.DataFrame'>\n",
      "RangeIndex: 141712 entries, 0 to 141711\n",
      "Data columns (total 36 columns):\n",
      " #   Column                   Non-Null Count   Dtype \n",
      "---  ------                   --------------   ----- \n",
      " 0   number                   141712 non-null  object\n",
      " 1   incident_state           141712 non-null  object\n",
      " 2   active                   141712 non-null  bool  \n",
      " 3   reassignment_count       141712 non-null  int64 \n",
      " 4   reopen_count             141712 non-null  int64 \n",
      " 5   sys_mod_count            141712 non-null  int64 \n",
      " 6   made_sla                 141712 non-null  bool  \n",
      " 7   caller_id                141712 non-null  object\n",
      " 8   opened_by                141712 non-null  object\n",
      " 9   opened_at                141712 non-null  object\n",
      " 10  sys_created_by           141712 non-null  object\n",
      " 11  sys_created_at           141712 non-null  object\n",
      " 12  sys_updated_by           141712 non-null  object\n",
      " 13  sys_updated_at           141712 non-null  object\n",
      " 14  contact_type             141712 non-null  object\n",
      " 15  location                 141712 non-null  object\n",
      " 16  category                 141712 non-null  object\n",
      " 17  subcategory              141712 non-null  object\n",
      " 18  u_symptom                141712 non-null  object\n",
      " 19  cmdb_ci                  141712 non-null  object\n",
      " 20  impact                   141712 non-null  object\n",
      " 21  urgency                  141712 non-null  object\n",
      " 22  priority                 141712 non-null  object\n",
      " 23  assignment_group         141712 non-null  object\n",
      " 24  assigned_to              141712 non-null  object\n",
      " 25  knowledge                141712 non-null  bool  \n",
      " 26  u_priority_confirmation  141712 non-null  bool  \n",
      " 27  notify                   141712 non-null  object\n",
      " 28  problem_id               141712 non-null  object\n",
      " 29  rfc                      141712 non-null  object\n",
      " 30  vendor                   141712 non-null  object\n",
      " 31  caused_by                141712 non-null  object\n",
      " 32  closed_code              141712 non-null  object\n",
      " 33  resolved_by              141712 non-null  object\n",
      " 34  resolved_at              141712 non-null  object\n",
      " 35  closed_at                141712 non-null  object\n",
      "dtypes: bool(4), int64(3), object(29)\n",
      "memory usage: 35.1+ MB\n"
     ]
    }
   ],
   "source": [
    "event.info()"
   ]
  },
  {
   "cell_type": "markdown",
   "metadata": {
    "id": "p-RRgVBGNlzE"
   },
   "source": [
    "## Data cleaning"
   ]
  },
  {
   "cell_type": "code",
   "execution_count": 8,
   "metadata": {
    "id": "OtWYFhqEIXxd"
   },
   "outputs": [],
   "source": [
    "#Create a copy of the original dataset\n",
    "incident=event.copy()"
   ]
  },
  {
   "cell_type": "code",
   "execution_count": 9,
   "metadata": {
    "id": "IlU4gtYfAZ_G"
   },
   "outputs": [],
   "source": [
    "#Replace '?' with Nan values\n",
    "incident.replace('?',np.nan,inplace=True)"
   ]
  },
  {
   "cell_type": "code",
   "execution_count": 10,
   "metadata": {
    "colab": {
     "base_uri": "https://localhost:8080/"
    },
    "id": "kxUVy4OFAfke",
    "outputId": "3e9258d2-5b2a-4b03-84a8-5baf4ea58d8e"
   },
   "outputs": [
    {
     "data": {
      "text/plain": [
       "caused_by                  141689\n",
       "vendor                     141468\n",
       "cmdb_ci                    141267\n",
       "rfc                        140721\n",
       "problem_id                 139417\n",
       "sys_created_at              53076\n",
       "sys_created_by              53076\n",
       "u_symptom                   32964\n",
       "assigned_to                 27496\n",
       "assignment_group            14213\n",
       "opened_by                    4835\n",
       "resolved_at                  3141\n",
       "closed_code                   714\n",
       "resolved_by                   226\n",
       "subcategory                   111\n",
       "category                       78\n",
       "location                       76\n",
       "caller_id                      29\n",
       "reassignment_count              0\n",
       "active                          0\n",
       "incident_state                  0\n",
       "reopen_count                    0\n",
       "sys_mod_count                   0\n",
       "made_sla                        0\n",
       "opened_at                       0\n",
       "closed_at                       0\n",
       "sys_updated_by                  0\n",
       "sys_updated_at                  0\n",
       "contact_type                    0\n",
       "impact                          0\n",
       "urgency                         0\n",
       "priority                        0\n",
       "knowledge                       0\n",
       "u_priority_confirmation         0\n",
       "notify                          0\n",
       "number                          0\n",
       "dtype: int64"
      ]
     },
     "execution_count": 10,
     "metadata": {},
     "output_type": "execute_result"
    }
   ],
   "source": [
    "#Number of null values in ascending order\n",
    "incident.isnull().sum().sort_values(ascending=False)"
   ]
  },
  {
   "cell_type": "code",
   "execution_count": 11,
   "metadata": {
    "colab": {
     "base_uri": "https://localhost:8080/"
    },
    "id": "xTdl087ZFXof",
    "outputId": "05fcb81b-b57f-411a-8ab8-11f839034815"
   },
   "outputs": [
    {
     "data": {
      "text/plain": [
       "caused_by                  99.983770\n",
       "vendor                     99.827820\n",
       "cmdb_ci                    99.685983\n",
       "rfc                        99.300694\n",
       "problem_id                 98.380518\n",
       "sys_created_at             37.453427\n",
       "sys_created_by             37.453427\n",
       "u_symptom                  23.261262\n",
       "assigned_to                19.402732\n",
       "assignment_group           10.029496\n",
       "opened_by                   3.411849\n",
       "resolved_at                 2.216467\n",
       "closed_code                 0.503839\n",
       "resolved_by                 0.159478\n",
       "subcategory                 0.078328\n",
       "category                    0.055041\n",
       "location                    0.053630\n",
       "caller_id                   0.020464\n",
       "reassignment_count          0.000000\n",
       "active                      0.000000\n",
       "incident_state              0.000000\n",
       "reopen_count                0.000000\n",
       "sys_mod_count               0.000000\n",
       "made_sla                    0.000000\n",
       "opened_at                   0.000000\n",
       "closed_at                   0.000000\n",
       "sys_updated_by              0.000000\n",
       "sys_updated_at              0.000000\n",
       "contact_type                0.000000\n",
       "impact                      0.000000\n",
       "urgency                     0.000000\n",
       "priority                    0.000000\n",
       "knowledge                   0.000000\n",
       "u_priority_confirmation     0.000000\n",
       "notify                      0.000000\n",
       "number                      0.000000\n",
       "dtype: float64"
      ]
     },
     "execution_count": 11,
     "metadata": {},
     "output_type": "execute_result"
    }
   ],
   "source": [
    "#Percentage of null values\n",
    "null_perc=incident.isnull().sum()/incident.shape[0]*100\n",
    "null_perc.sort_values(ascending=False)"
   ]
  },
  {
   "cell_type": "markdown",
   "metadata": {
    "id": "RfRLISgIm4QS"
   },
   "source": [
    "We can see that the top five features have huge number of missing values. Also, closed_code is not useful for the model. Let us go ahead and remove them."
   ]
  },
  {
   "cell_type": "code",
   "execution_count": 12,
   "metadata": {
    "id": "pdS4CrN5JzMI"
   },
   "outputs": [],
   "source": [
    "incident=incident.drop(['caused_by','vendor','cmdb_ci','rfc','problem_id','number','closed_code'],axis=1)"
   ]
  },
  {
   "cell_type": "code",
   "execution_count": 13,
   "metadata": {
    "colab": {
     "base_uri": "https://localhost:8080/",
     "height": 498
    },
    "id": "hbhfKFuvnLTC",
    "outputId": "81ab434e-29de-4519-a064-cdd173166786"
   },
   "outputs": [
    {
     "data": {
      "text/plain": [
       "<AxesSubplot:>"
      ]
     },
     "execution_count": 13,
     "metadata": {},
     "output_type": "execute_result"
    },
    {
     "data": {
      "image/png": "[encoded data removed]",
      "text/plain": [
       "<Figure size 720x432 with 1 Axes>"
      ]
     },
     "metadata": {
      "needs_background": "light"
     },
     "output_type": "display_data"
    }
   ],
   "source": [
    "#Missing values\n",
    "plt.figure(figsize=(10,6))\n",
    "sns.heatmap(incident.isnull(),yticklabels=False,cbar=False,cmap='viridis')"
   ]
  },
  {
   "cell_type": "markdown",
   "metadata": {
    "id": "58cs3P1zoJY1"
   },
   "source": [
    "We can see that sys_created_by and sys_created_at have missing values for the same records. assigned_to and u_symptom also have large number of missing values."
   ]
  },
  {
   "cell_type": "code",
   "execution_count": 14,
   "metadata": {
    "colab": {
     "base_uri": "https://localhost:8080/"
    },
    "id": "f15TfVzTnZvQ",
    "outputId": "85e10334-fd32-43f1-f20d-94dc7ec67236"
   },
   "outputs": [
    {
     "name": "stdout",
     "output_type": "stream",
     "text": [
      "reassignment_count :  28\n",
      "reopen_count :  9\n",
      "sys_mod_count :  115\n"
     ]
    }
   ],
   "source": [
    "for col in ['reassignment_count','reopen_count','sys_mod_count']:\n",
    "    print(col,': ',incident[col].nunique())"
   ]
  },
  {
   "cell_type": "markdown",
   "metadata": {
    "id": "JV2XThTQnVuy"
   },
   "source": [
    "The above features identified under integer data type then found to be categorical datatypes having less number of unique values. Hence, we convert all int and bool dtypes to object. "
   ]
  },
  {
   "cell_type": "code",
   "execution_count": 15,
   "metadata": {
    "id": "zcI6ZxFOheCd"
   },
   "outputs": [],
   "source": [
    "bool_int=['active','made_sla','knowledge','u_priority_confirmation','reassignment_count','reopen_count','sys_mod_count']\n",
    "for col in bool_int:\n",
    "    incident[bool_int]=incident[bool_int].astype('object')"
   ]
  },
  {
   "cell_type": "code",
   "execution_count": 16,
   "metadata": {
    "colab": {
     "base_uri": "https://localhost:8080/"
    },
    "id": "ikA2egFmebzL",
    "outputId": "a42b227b-5176-4068-9e26-71a7869f0e5b"
   },
   "outputs": [
    {
     "name": "stdout",
     "output_type": "stream",
     "text": [
      "incident_state  :-\n",
      "Active                38716\n",
      "New                   36407\n",
      "Resolved              25751\n",
      "Closed                24985\n",
      "Awaiting User Info    14642\n",
      "Awaiting Vendor         707\n",
      "Awaiting Problem        461\n",
      "Awaiting Evidence        38\n",
      "-100                      5\n",
      "Name: incident_state, dtype: int64\n",
      "===========================================================================\n",
      "active  :-\n",
      "True     116726\n",
      "False     24986\n",
      "Name: active, dtype: int64\n",
      "===========================================================================\n",
      "reassignment_count  :-\n",
      "0     69876\n",
      "1     37104\n",
      "2     15097\n",
      "3      8274\n",
      "4      4614\n",
      "5      2595\n",
      "6      1447\n",
      "7       985\n",
      "8       574\n",
      "9       365\n",
      "10      285\n",
      "11      174\n",
      "12      108\n",
      "13       61\n",
      "14       45\n",
      "15       21\n",
      "17       16\n",
      "20       16\n",
      "16       13\n",
      "18       13\n",
      "22        9\n",
      "19        8\n",
      "21        3\n",
      "27        3\n",
      "26        2\n",
      "23        2\n",
      "24        1\n",
      "25        1\n",
      "Name: reassignment_count, dtype: int64\n",
      "===========================================================================\n",
      "reopen_count  :-\n",
      "0    139398\n",
      "1      1918\n",
      "2       190\n",
      "3       107\n",
      "4        48\n",
      "5        24\n",
      "6        18\n",
      "7         5\n",
      "8         4\n",
      "Name: reopen_count, dtype: int64\n",
      "===========================================================================\n",
      "sys_mod_count  :-\n",
      "0      24913\n",
      "1      22062\n",
      "2      19749\n",
      "3      14168\n",
      "4      10735\n",
      "       ...  \n",
      "106        1\n",
      "105        1\n",
      "103        1\n",
      "128        1\n",
      "129        1\n",
      "Name: sys_mod_count, Length: 115, dtype: int64\n",
      "===========================================================================\n",
      "made_sla  :-\n",
      "True     132497\n",
      "False      9215\n",
      "Name: made_sla, dtype: int64\n",
      "===========================================================================\n",
      "caller_id  :-\n",
      "Caller 1904    1425\n",
      "Caller 290      791\n",
      "Caller 4514     716\n",
      "Caller 1441     322\n",
      "Caller 298      293\n",
      "               ... \n",
      "Caller 5404       2\n",
      "Caller 3451       2\n",
      "Caller 24         2\n",
      "Caller 2581       2\n",
      "Caller 835        2\n",
      "Name: caller_id, Length: 5244, dtype: int64\n",
      "===========================================================================\n",
      "opened_by  :-\n",
      "Opened by  17     41466\n",
      "Opened by  24      8063\n",
      "Opened by  131     7269\n",
      "Opened by  108     6121\n",
      "Opened by  55      5655\n",
      "                  ...  \n",
      "Opened by  486        3\n",
      "Opened by  211        3\n",
      "Opened by  80         3\n",
      "Opened by  144        3\n",
      "Opened by  447        3\n",
      "Name: opened_by, Length: 207, dtype: int64\n",
      "===========================================================================\n",
      "opened_at  :-\n",
      "14/4/2016 20:42    58\n",
      "4/7/2016 14:38     56\n",
      "7/3/2016 09:11     52\n",
      "7/3/2016 11:58     52\n",
      "9/3/2016 16:03     51\n",
      "                   ..\n",
      "26/4/2016 12:26     2\n",
      "14/5/2016 12:32     2\n",
      "27/3/2016 14:06     2\n",
      "15/3/2016 09:36     2\n",
      "6/4/2016 08:19      2\n",
      "Name: opened_at, Length: 19849, dtype: int64\n",
      "===========================================================================\n",
      "sys_created_by  :-\n",
      "Created by 10     24223\n",
      "Created by 13      4511\n",
      "Created by 62      3943\n",
      "Created by 52      3551\n",
      "Created by 34      3468\n",
      "                  ...  \n",
      "Created by 175        3\n",
      "Created by 191        3\n",
      "Created by 73         3\n",
      "Created by 209        3\n",
      "Created by 194        3\n",
      "Name: sys_created_by, Length: 185, dtype: int64\n",
      "===========================================================================\n",
      "sys_created_at  :-\n",
      "4/7/2016 14:50     56\n",
      "15/3/2016 15:19    52\n",
      "24/5/2016 09:14    47\n",
      "19/4/2016 11:32    47\n",
      "4/3/2016 10:31     46\n",
      "                   ..\n",
      "27/4/2016 18:28     2\n",
      "27/4/2016 18:26     2\n",
      "31/3/2016 10:28     2\n",
      "21/3/2016 16:13     2\n",
      "9/3/2016 08:54      2\n",
      "Name: sys_created_at, Length: 11552, dtype: int64\n",
      "===========================================================================\n",
      "sys_updated_by  :-\n",
      "Updated by 908    36162\n",
      "Updated by 44     12644\n",
      "Updated by 60      7009\n",
      "Updated by 429     4169\n",
      "Updated by 859     2560\n",
      "                  ...  \n",
      "Updated by 8          1\n",
      "Updated by 940        1\n",
      "Updated by 820        1\n",
      "Updated by 239        1\n",
      "Updated by 233        1\n",
      "Name: sys_updated_by, Length: 846, dtype: int64\n",
      "===========================================================================\n",
      "sys_updated_at  :-\n",
      "24/3/2016 18:40    420\n",
      "24/3/2016 19:00    405\n",
      "24/3/2016 18:51    400\n",
      "24/3/2016 19:01    393\n",
      "24/3/2016 18:41    386\n",
      "                  ... \n",
      "24/3/2016 19:30      1\n",
      "2/6/2016 08:54       1\n",
      "15/3/2016 13:45      1\n",
      "2/5/2016 15:31       1\n",
      "5/5/2016 05:26       1\n",
      "Name: sys_updated_at, Length: 50664, dtype: int64\n",
      "===========================================================================\n",
      "contact_type  :-\n",
      "Phone             140462\n",
      "Self service         995\n",
      "Email                220\n",
      "IVR                   18\n",
      "Direct opening        17\n",
      "Name: contact_type, dtype: int64\n",
      "===========================================================================\n",
      "location  :-\n",
      "Location 204    31690\n",
      "Location 161    22605\n",
      "Location 143    19245\n",
      "Location 108    12623\n",
      "Location 93     11554\n",
      "                ...  \n",
      "Location 227        3\n",
      "Location 207        3\n",
      "Location 31         2\n",
      "Location 132        2\n",
      "Location 166        2\n",
      "Name: location, Length: 224, dtype: int64\n",
      "===========================================================================\n",
      "category  :-\n",
      "Category 26    18453\n",
      "Category 42    15977\n",
      "Category 53    15968\n",
      "Category 46    13324\n",
      "Category 23     7779\n",
      "Category 9      7365\n",
      "Category 32     7273\n",
      "Category 37     6584\n",
      "Category 57     6532\n",
      "Category 20     5506\n",
      "Category 61     5168\n",
      "Category 24     4561\n",
      "Category 34     3946\n",
      "Category 40     3760\n",
      "Category 45     3619\n",
      "Category 51     2390\n",
      "Category 28     2256\n",
      "Category 35     2037\n",
      "Category 44     1798\n",
      "Category 19     1592\n",
      "Category 13      994\n",
      "Category 43      858\n",
      "Category 55      801\n",
      "Category 17      512\n",
      "Category 22      420\n",
      "Category 56      322\n",
      "Category 38      290\n",
      "Category 8       264\n",
      "Category 7       207\n",
      "Category 33      160\n",
      "Category 54      139\n",
      "Category 50       93\n",
      "Category 31       92\n",
      "Category 63       78\n",
      "Category 2        77\n",
      "Category 21       69\n",
      "Category 47       50\n",
      "Category 59       42\n",
      "Category 41       36\n",
      "Category 29       32\n",
      "Category 5        31\n",
      "Category 25       30\n",
      "Category 62       25\n",
      "Category 10       24\n",
      "Category 4        22\n",
      "Category 52       16\n",
      "Category 30       15\n",
      "Category 48       10\n",
      "Category 6         7\n",
      "Category 16        7\n",
      "Category 14        5\n",
      "Category 58        5\n",
      "Category 15        3\n",
      "Category 12        3\n",
      "Category 27        2\n",
      "Category 49        2\n",
      "Category 36        2\n",
      "Category 3         1\n",
      "Name: category, dtype: int64\n",
      "===========================================================================\n",
      "subcategory  :-\n",
      "Subcategory 174    35785\n",
      "Subcategory 223    15598\n",
      "Subcategory 175    10496\n",
      "Subcategory 164     7880\n",
      "Subcategory 9       4124\n",
      "                   ...  \n",
      "Subcategory 124        2\n",
      "Subcategory 241        1\n",
      "Subcategory 264        1\n",
      "Subcategory 284        1\n",
      "Subcategory 179        1\n",
      "Name: subcategory, Length: 254, dtype: int64\n",
      "===========================================================================\n",
      "u_symptom  :-\n",
      "Symptom 491    51985\n",
      "Symptom 534     5559\n",
      "Symptom 387     2583\n",
      "Symptom 4       2532\n",
      "Symptom 116     2394\n",
      "               ...  \n",
      "Symptom 19         1\n",
      "Symptom 441        1\n",
      "Symptom 61         1\n",
      "Symptom 137        1\n",
      "Symptom 184        1\n",
      "Name: u_symptom, Length: 525, dtype: int64\n",
      "===========================================================================\n",
      "impact  :-\n",
      "2 - Medium    134335\n",
      "3 - Low         3886\n",
      "1 - High        3491\n",
      "Name: impact, dtype: int64\n",
      "===========================================================================\n",
      "urgency  :-\n",
      "2 - Medium    134094\n",
      "1 - High        4020\n",
      "3 - Low         3598\n",
      "Name: urgency, dtype: int64\n",
      "===========================================================================\n",
      "priority  :-\n",
      "3 - Moderate    132452\n",
      "4 - Low           4030\n",
      "2 - High          2972\n",
      "1 - Critical      2258\n",
      "Name: priority, dtype: int64\n",
      "===========================================================================\n",
      "assignment_group  :-\n",
      "Group 70    43474\n",
      "Group 25     7679\n",
      "Group 24     6752\n",
      "Group 20     6170\n",
      "Group 39     4728\n",
      "            ...  \n",
      "Group 41        3\n",
      "Group 38        2\n",
      "Group 11        1\n",
      "Group 4         1\n",
      "Group 16        1\n",
      "Name: assignment_group, Length: 78, dtype: int64\n",
      "===========================================================================\n",
      "assigned_to  :-\n",
      "Resolver 17     10590\n",
      "Resolver 13      8802\n",
      "Resolver 194     3515\n",
      "Resolver 57      3144\n",
      "Resolver 69      2983\n",
      "                ...  \n",
      "Resolver 129        1\n",
      "Resolver 67         1\n",
      "Resolver 131        1\n",
      "Resolver 146        1\n",
      "Resolver 199        1\n",
      "Name: assigned_to, Length: 234, dtype: int64\n",
      "===========================================================================\n",
      "knowledge  :-\n",
      "False    116349\n",
      "True      25363\n",
      "Name: knowledge, dtype: int64\n",
      "===========================================================================\n",
      "u_priority_confirmation  :-\n",
      "False    100740\n",
      "True      40972\n",
      "Name: u_priority_confirmation, dtype: int64\n",
      "===========================================================================\n",
      "notify  :-\n",
      "Do Not Notify    141593\n",
      "Send Email          119\n",
      "Name: notify, dtype: int64\n",
      "===========================================================================\n",
      "resolved_by  :-\n",
      "Resolved by 15     15421\n",
      "Resolved by 11     12050\n",
      "Resolved by 103     5360\n",
      "Resolved by 177     3811\n",
      "Resolved by 53      3637\n",
      "                   ...  \n",
      "Resolved by 17         4\n",
      "Resolved by 222        4\n",
      "Resolved by 48         3\n",
      "Resolved by 39         3\n",
      "Resolved by 185        3\n",
      "Name: resolved_by, Length: 216, dtype: int64\n",
      "===========================================================================\n",
      "resolved_at  :-\n",
      "3/6/2016 16:29     93\n",
      "3/6/2016 16:28     85\n",
      "3/6/2016 16:27     83\n",
      "3/6/2016 16:31     59\n",
      "12/5/2016 23:51    58\n",
      "                   ..\n",
      "4/3/2016 16:51      2\n",
      "30/4/2016 02:04     2\n",
      "31/3/2016 10:28     2\n",
      "22/3/2016 17:28     2\n",
      "1/4/2016 09:55      2\n",
      "Name: resolved_at, Length: 18505, dtype: int64\n",
      "===========================================================================\n",
      "closed_at  :-\n",
      "24/3/2016 18:59    3324\n",
      "24/3/2016 18:50    2846\n",
      "24/3/2016 18:40    2808\n",
      "24/3/2016 19:00    2780\n",
      "24/3/2016 19:01    2044\n",
      "                   ... \n",
      "5/5/2016 16:07        2\n",
      "4/6/2016 19:10        2\n",
      "5/3/2016 18:00        2\n",
      "25/3/2016 22:59       2\n",
      "19/5/2016 23:07       2\n",
      "Name: closed_at, Length: 2707, dtype: int64\n",
      "===========================================================================\n"
     ]
    }
   ],
   "source": [
    "for i in incident.columns:\n",
    "    print(i,\" :-\")\n",
    "    print(incident[i].value_counts())\n",
    "    print('==='*25)"
   ]
  },
  {
   "cell_type": "code",
   "execution_count": 17,
   "metadata": {
    "colab": {
     "base_uri": "https://localhost:8080/"
    },
    "id": "I1xtAQK9ltD5",
    "outputId": "a8404ab9-ad60-4eb3-be6a-6d66269e1ce0"
   },
   "outputs": [
    {
     "name": "stdout",
     "output_type": "stream",
     "text": [
      "incident_state  :- 9\n",
      "active  :- 2\n",
      "reassignment_count  :- 28\n",
      "reopen_count  :- 9\n",
      "sys_mod_count  :- 115\n",
      "made_sla  :- 2\n",
      "caller_id  :- 5244\n",
      "opened_by  :- 207\n",
      "opened_at  :- 19849\n",
      "sys_created_by  :- 185\n",
      "sys_created_at  :- 11552\n",
      "sys_updated_by  :- 846\n",
      "sys_updated_at  :- 50664\n",
      "contact_type  :- 5\n",
      "location  :- 224\n",
      "category  :- 58\n",
      "subcategory  :- 254\n",
      "u_symptom  :- 525\n",
      "impact  :- 3\n",
      "urgency  :- 3\n",
      "priority  :- 4\n",
      "assignment_group  :- 78\n",
      "assigned_to  :- 234\n",
      "knowledge  :- 2\n",
      "u_priority_confirmation  :- 2\n",
      "notify  :- 2\n",
      "resolved_by  :- 216\n",
      "resolved_at  :- 18505\n",
      "closed_at  :- 2707\n"
     ]
    }
   ],
   "source": [
    "for i in incident.columns:\n",
    "    print(i,\" :-\",incident[i].nunique())"
   ]
  },
  {
   "cell_type": "markdown",
   "metadata": {
    "id": "ZmSPLCzDjiMX"
   },
   "source": [
    "## Exploratory Data Analysis (EDA)"
   ]
  },
  {
   "cell_type": "code",
   "execution_count": 18,
   "metadata": {
    "id": "cZEeikPzeSVY"
   },
   "outputs": [],
   "source": [
    "columns_to_change_to_datetime = ['closed_at', 'opened_at' ]\n",
    "\n",
    "for i in columns_to_change_to_datetime:\n",
    "    incident[i] = incident[i].astype('datetime64[ns]')"
   ]
  },
  {
   "cell_type": "code",
   "execution_count": 19,
   "metadata": {
    "id": "NXHq2c_weSSP"
   },
   "outputs": [],
   "source": [
    "# life of a ticket in seconds\n",
    "incident['ticket_life'] = (incident['closed_at'] - incident['opened_at']).dt.total_seconds()"
   ]
  },
  {
   "cell_type": "code",
   "execution_count": 20,
   "metadata": {
    "colab": {
     "base_uri": "https://localhost:8080/"
    },
    "id": "jT0nYcENeSQL",
    "outputId": "8f2952ba-a6a1-4bbe-ecc5-78c2866d257c"
   },
   "outputs": [
    {
     "name": "stdout",
     "output_type": "stream",
     "text": [
      "Number of tickets having negative life  50484\n",
      "Percentage of negative life tickets:  35.62436490911144\n"
     ]
    }
   ],
   "source": [
    "# tickets opened after closing\n",
    "# Filtering out the rows where the opened_at > closed_at\n",
    "\n",
    "negative_life = incident[incident.ticket_life<0 ]\n",
    "print('Number of tickets having negative life ',negative_life.shape[0])\n",
    "\n",
    "#Percentage\n",
    "perc = negative_life.shape[0]/incident.shape[0]*100\n",
    "print('Percentage of negative life tickets: ',perc)"
   ]
  },
  {
   "cell_type": "markdown",
   "metadata": {
    "id": "7EGRW39lfZ2Y"
   },
   "source": [
    "35.62% of tickets have negative life. We will handle these tickets seperately and not use the same in the model building as this might affect the performance of the model."
   ]
  },
  {
   "cell_type": "code",
   "execution_count": 21,
   "metadata": {
    "colab": {
     "base_uri": "https://localhost:8080/"
    },
    "id": "KKFyRPQGeSM9",
    "outputId": "b7863bb8-90ca-404f-c2ad-91a029308270"
   },
   "outputs": [
    {
     "data": {
      "text/plain": [
       "(91210, 30)"
      ]
     },
     "execution_count": 21,
     "metadata": {},
     "output_type": "execute_result"
    }
   ],
   "source": [
    "#Include only genuine tickets\n",
    "incident=incident[incident.ticket_life>0]\n",
    "incident.shape"
   ]
  },
  {
   "cell_type": "code",
   "execution_count": 22,
   "metadata": {
    "colab": {
     "base_uri": "https://localhost:8080/"
    },
    "id": "4YTVPNFoeSKc",
    "outputId": "e2285eaf-2451-40c4-fa7e-ec08d6d6a950"
   },
   "outputs": [
    {
     "name": "stdout",
     "output_type": "stream",
     "text": [
      "-1 days +23:57:58.993122131\n",
      "0 days 00:13:01.503258663\n"
     ]
    }
   ],
   "source": [
    "import datetime\n",
    "from datetime import timedelta\n",
    "temp = incident[['opened_at', 'sys_created_at']]\n",
    "temp = temp.dropna().astype('datetime64[ns]')\n",
    "\n",
    "#The gap or difference between opening time of the incident and system created time\n",
    "temp['gap'] = temp.sys_created_at - temp.opened_at\n",
    "print(temp.gap.mean())\n",
    "\n",
    "#Calculate the mean of the gap and add this mean to fill the null values in sys_created_at\n",
    "temp_mean = temp[temp.gap > datetime.timedelta(hours=0,minutes=0,seconds=0)].gap.mean()\n",
    "print(temp_mean)\n",
    "\n",
    "incident['sys_created_temp_mean'] = incident.opened_at + timedelta(minutes = 13, seconds=01.503258)\n",
    "incident['sys_created_at'].fillna(value=incident['sys_created_temp_mean'],inplace=True)"
   ]
  },
  {
   "cell_type": "code",
   "execution_count": 23,
   "metadata": {
    "colab": {
     "base_uri": "https://localhost:8080/"
    },
    "id": "TV66cqcrlt_0",
    "outputId": "d54e35f5-0357-4299-8fa4-5bdbb01ab1c5"
   },
   "outputs": [
    {
     "name": "stdout",
     "output_type": "stream",
     "text": [
      "27 days 09:42:23.943725302\n",
      "37 days 04:28:56.446437425\n"
     ]
    }
   ],
   "source": [
    "#Similarly fill the null values for the column resolved_at by taking the average difference between opened_at time and resolved_at time\n",
    "temp2 = incident[['opened_at', 'resolved_at']]\n",
    "temp2 = temp2.dropna()\n",
    "temp2.resolved_at = temp2.resolved_at.astype('datetime64[ns]')\n",
    "\n",
    "temp2['new'] = temp2.resolved_at - temp2.opened_at\n",
    "print(temp2.new.mean())\n",
    "\n",
    "temp2_mean = temp2[temp2.new > datetime.timedelta(hours=0,minutes=0,seconds=0)].new.mean()\n",
    "print(temp2_mean)\n",
    "\n",
    "incident['new2'] = incident['opened_at'] + datetime.timedelta(days=5,hours = 5, minutes=34, seconds=59.468314879)\n",
    "incident['resolved_at'].fillna(value = incident.new2,inplace=True)"
   ]
  },
  {
   "cell_type": "code",
   "execution_count": 24,
   "metadata": {
    "id": "btH9Y0SoCPzm"
   },
   "outputs": [],
   "source": [
    "for col in ['sys_created_by','u_symptom','location','assigned_to','assignment_group','caller_id','category','subcategory','opened_by','resolved_by']:\n",
    "    incident[col].fillna(incident[col].mode()[0],inplace=True)"
   ]
  },
  {
   "cell_type": "code",
   "execution_count": 25,
   "metadata": {
    "colab": {
     "base_uri": "https://localhost:8080/"
    },
    "id": "a-o2uRJpNlzP",
    "outputId": "02b4c072-deed-405a-dfa2-0b39322ca202",
    "scrolled": true
   },
   "outputs": [
    {
     "data": {
      "text/plain": [
       "0"
      ]
     },
     "execution_count": 25,
     "metadata": {},
     "output_type": "execute_result"
    }
   ],
   "source": [
    "incident.isnull().any().sum()"
   ]
  },
  {
   "cell_type": "code",
   "execution_count": 26,
   "metadata": {
    "colab": {
     "base_uri": "https://localhost:8080/"
    },
    "id": "p6UwE9Uxqk_M",
    "outputId": "346986bb-4f31-44f0-f6e0-7e4b0121a462"
   },
   "outputs": [
    {
     "data": {
      "text/plain": [
       "(91210, 28)"
      ]
     },
     "execution_count": 26,
     "metadata": {},
     "output_type": "execute_result"
    }
   ],
   "source": [
    "incident=incident.drop(['closed_at','ticket_life', 'sys_created_temp_mean','new2'],axis=1)\n",
    "incident.shape"
   ]
  },
  {
   "cell_type": "markdown",
   "metadata": {
    "id": "vGShNwTpNlzQ"
   },
   "source": [
    "Now, there are no missing values in our dataset"
   ]
  },
  {
   "cell_type": "code",
   "execution_count": 27,
   "metadata": {
    "colab": {
     "base_uri": "https://localhost:8080/",
     "height": 1000
    },
    "id": "P2P2xWw7R-vJ",
    "outputId": "a0877515-73a6-4599-8d88-f1df17b1aeb9"
   },
   "outputs": [],
   "source": [
    "#!pip install pandas-profiling==2.7.1"
   ]
  },
  {
   "cell_type": "code",
   "execution_count": 28,
   "metadata": {
    "colab": {
     "base_uri": "https://localhost:8080/",
     "height": 212
    },
    "id": "DznSHlauNlzR",
    "outputId": "df5635af-bf9f-47c1-da92-3f521331c0d3",
    "scrolled": true
   },
   "outputs": [
    {
     "data": {
      "text/html": [
       "<div>\n",
       "<style scoped>\n",
       "    .dataframe tbody tr th:only-of-type {\n",
       "        vertical-align: middle;\n",
       "    }\n",
       "\n",
       "    .dataframe tbody tr th {\n",
       "        vertical-align: top;\n",
       "    }\n",
       "\n",
       "    .dataframe thead th {\n",
       "        text-align: right;\n",
       "    }\n",
       "</style>\n",
       "<table border=\"1\" class=\"dataframe\">\n",
       "  <thead>\n",
       "    <tr style=\"text-align: right;\">\n",
       "      <th></th>\n",
       "      <th>incident_state</th>\n",
       "      <th>active</th>\n",
       "      <th>reassignment_count</th>\n",
       "      <th>reopen_count</th>\n",
       "      <th>sys_mod_count</th>\n",
       "      <th>made_sla</th>\n",
       "      <th>caller_id</th>\n",
       "      <th>opened_by</th>\n",
       "      <th>sys_created_by</th>\n",
       "      <th>sys_created_at</th>\n",
       "      <th>...</th>\n",
       "      <th>impact</th>\n",
       "      <th>urgency</th>\n",
       "      <th>priority</th>\n",
       "      <th>assignment_group</th>\n",
       "      <th>assigned_to</th>\n",
       "      <th>knowledge</th>\n",
       "      <th>u_priority_confirmation</th>\n",
       "      <th>notify</th>\n",
       "      <th>resolved_by</th>\n",
       "      <th>resolved_at</th>\n",
       "    </tr>\n",
       "  </thead>\n",
       "  <tbody>\n",
       "    <tr>\n",
       "      <th>count</th>\n",
       "      <td>91210</td>\n",
       "      <td>91210</td>\n",
       "      <td>91210</td>\n",
       "      <td>91210</td>\n",
       "      <td>91210</td>\n",
       "      <td>91210</td>\n",
       "      <td>91210</td>\n",
       "      <td>91210</td>\n",
       "      <td>91210</td>\n",
       "      <td>91210</td>\n",
       "      <td>...</td>\n",
       "      <td>91210</td>\n",
       "      <td>91210</td>\n",
       "      <td>91210</td>\n",
       "      <td>91210</td>\n",
       "      <td>91210</td>\n",
       "      <td>91210</td>\n",
       "      <td>91210</td>\n",
       "      <td>91210</td>\n",
       "      <td>91210</td>\n",
       "      <td>91210</td>\n",
       "    </tr>\n",
       "    <tr>\n",
       "      <th>unique</th>\n",
       "      <td>9</td>\n",
       "      <td>2</td>\n",
       "      <td>23</td>\n",
       "      <td>9</td>\n",
       "      <td>115</td>\n",
       "      <td>2</td>\n",
       "      <td>4562</td>\n",
       "      <td>185</td>\n",
       "      <td>168</td>\n",
       "      <td>14592</td>\n",
       "      <td>...</td>\n",
       "      <td>3</td>\n",
       "      <td>3</td>\n",
       "      <td>4</td>\n",
       "      <td>76</td>\n",
       "      <td>226</td>\n",
       "      <td>2</td>\n",
       "      <td>2</td>\n",
       "      <td>2</td>\n",
       "      <td>206</td>\n",
       "      <td>13544</td>\n",
       "    </tr>\n",
       "    <tr>\n",
       "      <th>top</th>\n",
       "      <td>Active</td>\n",
       "      <td>True</td>\n",
       "      <td>0</td>\n",
       "      <td>0</td>\n",
       "      <td>0</td>\n",
       "      <td>True</td>\n",
       "      <td>Caller 1904</td>\n",
       "      <td>Opened by  17</td>\n",
       "      <td>Created by 10</td>\n",
       "      <td>2016-04-14 20:55:01.503258</td>\n",
       "      <td>...</td>\n",
       "      <td>2 - Medium</td>\n",
       "      <td>2 - Medium</td>\n",
       "      <td>3 - Moderate</td>\n",
       "      <td>Group 70</td>\n",
       "      <td>Resolver 17</td>\n",
       "      <td>False</td>\n",
       "      <td>False</td>\n",
       "      <td>Do Not Notify</td>\n",
       "      <td>Resolved by 15</td>\n",
       "      <td>3/6/2016 16:27</td>\n",
       "    </tr>\n",
       "    <tr>\n",
       "      <th>freq</th>\n",
       "      <td>24217</td>\n",
       "      <td>74868</td>\n",
       "      <td>45605</td>\n",
       "      <td>89673</td>\n",
       "      <td>16290</td>\n",
       "      <td>85963</td>\n",
       "      <td>1032</td>\n",
       "      <td>31191</td>\n",
       "      <td>50724</td>\n",
       "      <td>58</td>\n",
       "      <td>...</td>\n",
       "      <td>86397</td>\n",
       "      <td>86098</td>\n",
       "      <td>85033</td>\n",
       "      <td>37260</td>\n",
       "      <td>23142</td>\n",
       "      <td>80463</td>\n",
       "      <td>63778</td>\n",
       "      <td>91140</td>\n",
       "      <td>9281</td>\n",
       "      <td>68</td>\n",
       "    </tr>\n",
       "  </tbody>\n",
       "</table>\n",
       "<p>4 rows × 27 columns</p>\n",
       "</div>"
      ],
      "text/plain": [
       "       incident_state active  reassignment_count  reopen_count  sys_mod_count  \\\n",
       "count           91210  91210               91210         91210          91210   \n",
       "unique              9      2                  23             9            115   \n",
       "top            Active   True                   0             0              0   \n",
       "freq            24217  74868               45605         89673          16290   \n",
       "\n",
       "       made_sla    caller_id      opened_by sys_created_by  \\\n",
       "count     91210        91210          91210          91210   \n",
       "unique        2         4562            185            168   \n",
       "top        True  Caller 1904  Opened by  17  Created by 10   \n",
       "freq      85963         1032          31191          50724   \n",
       "\n",
       "                    sys_created_at  ...      impact     urgency      priority  \\\n",
       "count                        91210  ...       91210       91210         91210   \n",
       "unique                       14592  ...           3           3             4   \n",
       "top     2016-04-14 20:55:01.503258  ...  2 - Medium  2 - Medium  3 - Moderate   \n",
       "freq                            58  ...       86397       86098         85033   \n",
       "\n",
       "       assignment_group  assigned_to knowledge u_priority_confirmation  \\\n",
       "count             91210        91210     91210                   91210   \n",
       "unique               76          226         2                       2   \n",
       "top            Group 70  Resolver 17     False                   False   \n",
       "freq              37260        23142     80463                   63778   \n",
       "\n",
       "               notify     resolved_by     resolved_at  \n",
       "count           91210           91210           91210  \n",
       "unique              2             206           13544  \n",
       "top     Do Not Notify  Resolved by 15  3/6/2016 16:27  \n",
       "freq            91140            9281              68  \n",
       "\n",
       "[4 rows x 27 columns]"
      ]
     },
     "execution_count": 28,
     "metadata": {},
     "output_type": "execute_result"
    }
   ],
   "source": [
    "incident.describe(include='O')"
   ]
  },
  {
   "cell_type": "code",
   "execution_count": 29,
   "metadata": {
    "id": "KTSWNGN4sjsl"
   },
   "outputs": [],
   "source": [
    "# Distribution graphs (histogram/bar graph) of column data\n",
    "def plotPerColumnDistribution(incident, nGraphShown, nGraphPerRow):\n",
    "    nunique = incident.nunique()\n",
    "    incident = incident[[col for col in incident if nunique[col] > 1 and nunique[col] < 50]] # For displaying purposes, pick columns that have between 1 and 50 unique values\n",
    "    nRow, nCol = incident.shape\n",
    "    columnNames = list(incident)\n",
    "    nGraphRow = (nCol + nGraphPerRow - 1) / nGraphPerRow\n",
    "    plt.figure(num = None, figsize = (6 * nGraphPerRow, 8 * nGraphRow), dpi = 80, facecolor = 'w', edgecolor = 'k')\n",
    "    for i in range(min(nCol, nGraphShown)):\n",
    "        plt.subplot(nGraphRow, nGraphPerRow, i + 1)\n",
    "        columnDf = incident.iloc[:, i]\n",
    "        if (not np.issubdtype(type(columnDf.iloc[0]), np.number)):\n",
    "            valueCounts = columnDf.value_counts()\n",
    "            valueCounts.plot.bar()\n",
    "        else:\n",
    "            columnDf.hist()\n",
    "        plt.ylabel('counts')\n",
    "        plt.xticks(rotation = 90)\n",
    "        plt.title(f'{columnNames[i]} (column {i})')\n",
    "    plt.tight_layout(pad = 1.0, w_pad = 1.0, h_pad = 1.0)\n",
    "    plt.show()"
   ]
  },
  {
   "cell_type": "code",
   "execution_count": 30,
   "metadata": {
    "id": "pjd0nKzYs8GM"
   },
   "outputs": [],
   "source": [
    "# Scatter and density plots\n",
    "def plotScatterMatrix(incident, plotSize, textSize):\n",
    "    incident = incident.select_dtypes(include =[np.number]) # keep only numerical columns\n",
    "    # Remove rows and columns that would lead to df being singular\n",
    "    incident = incident.dropna('columns')\n",
    "    incident = incident[[col for col in incident if incident[col].nunique() > 1]] # keep columns where there are more than 1 unique values\n",
    "    columnNames = list(incident)\n",
    "    if len(columnNames) > 10: # reduce the number of columns for matrix inversion of kernel density plots\n",
    "        columnNames = columnNames[:10]\n",
    "    incident = incident[columnNames]\n",
    "    ax = pd.plotting.scatter_matrix(incident, alpha=0.75, figsize=[plotSize, plotSize], diagonal='kde')\n",
    "    corrs = incident.corr().values\n",
    "    for i, j in zip(*plt.np.triu_indices_from(ax, k = 1)):\n",
    "        ax[i, j].annotate('Corr. coef = %.3f' % corrs[i, j], (0.8, 0.2), xycoords='axes fraction', ha='center', va='center', size=textSize)\n",
    "    plt.suptitle('Scatter and Density Plot')\n",
    "    plt.show()"
   ]
  },
  {
   "cell_type": "code",
   "execution_count": 31,
   "metadata": {
    "colab": {
     "base_uri": "https://localhost:8080/"
    },
    "id": "ns-rpsH1t-or",
    "outputId": "bbd35c2a-852d-4cb3-e301-8d0f0678f6fe"
   },
   "outputs": [
    {
     "name": "stdout",
     "output_type": "stream",
     "text": [
      "There are 1000 rows and 36 columns\n"
     ]
    }
   ],
   "source": [
    "nRowsRead = 1000 # specify 'None' if want to read whole file\n",
    "# incident_event_log.csv may have more rows in reality, but we are only loading/previewing the first 1000 rows\n",
    "df1 = pd.read_csv(r\"C:\\Users\\Mahesh\\Desktop\\DS Project\\incident_event_log.csv\", delimiter=',', nrows = nRowsRead)\n",
    "df1.dataframeName = r\"C:\\Users\\Mahesh\\Desktop\\DS Project\\incident_event_log.csv\"\n",
    "nRow, nCol = df1.shape\n",
    "print(f'There are {nRow} rows and {nCol} columns')"
   ]
  },
  {
   "cell_type": "code",
   "execution_count": 32,
   "metadata": {
    "colab": {
     "base_uri": "https://localhost:8080/",
     "height": 483
    },
    "id": "pTtedIfBuDyB",
    "outputId": "254e96e3-44a2-40e9-e6f0-6322e8fe3332"
   },
   "outputs": [
    {
     "name": "stderr",
     "output_type": "stream",
     "text": [
      "<ipython-input-29-43a57d38883d>:10: MatplotlibDeprecationWarning: Passing non-integers as three-element position specification is deprecated since 3.3 and will be removed two minor releases later.\n",
      "  plt.subplot(nGraphRow, nGraphPerRow, i + 1)\n",
      "<ipython-input-29-43a57d38883d>:10: MatplotlibDeprecationWarning: Passing non-integers as three-element position specification is deprecated since 3.3 and will be removed two minor releases later.\n",
      "  plt.subplot(nGraphRow, nGraphPerRow, i + 1)\n",
      "<ipython-input-29-43a57d38883d>:10: MatplotlibDeprecationWarning: Passing non-integers as three-element position specification is deprecated since 3.3 and will be removed two minor releases later.\n",
      "  plt.subplot(nGraphRow, nGraphPerRow, i + 1)\n",
      "<ipython-input-29-43a57d38883d>:10: MatplotlibDeprecationWarning: Passing non-integers as three-element position specification is deprecated since 3.3 and will be removed two minor releases later.\n",
      "  plt.subplot(nGraphRow, nGraphPerRow, i + 1)\n",
      "<ipython-input-29-43a57d38883d>:10: MatplotlibDeprecationWarning: Passing non-integers as three-element position specification is deprecated since 3.3 and will be removed two minor releases later.\n",
      "  plt.subplot(nGraphRow, nGraphPerRow, i + 1)\n",
      "<ipython-input-29-43a57d38883d>:10: MatplotlibDeprecationWarning: Passing non-integers as three-element position specification is deprecated since 3.3 and will be removed two minor releases later.\n",
      "  plt.subplot(nGraphRow, nGraphPerRow, i + 1)\n",
      "<ipython-input-29-43a57d38883d>:10: MatplotlibDeprecationWarning: Passing non-integers as three-element position specification is deprecated since 3.3 and will be removed two minor releases later.\n",
      "  plt.subplot(nGraphRow, nGraphPerRow, i + 1)\n"
     ]
    },
    {
     "data": {
      "image/png": "[encoded data removed]",
      "text/plain": [
       "<Figure size 2400x3328 with 10 Axes>"
      ]
     },
     "metadata": {},
     "output_type": "display_data"
    }
   ],
   "source": [
    "plotPerColumnDistribution(df1, 10, 5)"
   ]
  },
  {
   "cell_type": "code",
   "execution_count": 33,
   "metadata": {
    "colab": {
     "base_uri": "https://localhost:8080/",
     "height": 624
    },
    "id": "CU_5Wb0Oub6Y",
    "outputId": "f01881c1-b76d-472c-da74-77f0d3d287f0"
   },
   "outputs": [
    {
     "data": {
      "image/png": "[encoded data removed]",
      "text/plain": [
       "<Figure size 648x648 with 9 Axes>"
      ]
     },
     "metadata": {
      "needs_background": "light"
     },
     "output_type": "display_data"
    }
   ],
   "source": [
    "plotScatterMatrix(df1, 9, 10)"
   ]
  },
  {
   "cell_type": "code",
   "execution_count": 34,
   "metadata": {
    "colab": {
     "base_uri": "https://localhost:8080/",
     "height": 295
    },
    "id": "pXxSyRKTNlzS",
    "outputId": "080f9097-0ce0-462b-850c-4075450366a9",
    "scrolled": true
   },
   "outputs": [
    {
     "data": {
      "text/plain": [
       "<AxesSubplot:xlabel='impact', ylabel='count'>"
      ]
     },
     "execution_count": 34,
     "metadata": {},
     "output_type": "execute_result"
    },
    {
     "data": {
      "image/png": "[encoded data removed]",
      "text/plain": [
       "<Figure size 432x288 with 1 Axes>"
      ]
     },
     "metadata": {
      "needs_background": "light"
     },
     "output_type": "display_data"
    }
   ],
   "source": [
    "##Let us see the distribution of the target varibale\n",
    "sns.countplot(x='impact',data=incident)"
   ]
  },
  {
   "cell_type": "markdown",
   "metadata": {
    "id": "OebovMyZNlzT"
   },
   "source": [
    "From the graph, we can see that our data is imbalanced"
   ]
  },
  {
   "cell_type": "code",
   "execution_count": 35,
   "metadata": {
    "colab": {
     "base_uri": "https://localhost:8080/"
    },
    "id": "Nj-QtwpoNlzT",
    "outputId": "35a747c8-41ad-41a3-a275-11dc0fd5c58b",
    "scrolled": true
   },
   "outputs": [
    {
     "data": {
      "text/plain": [
       "2 - Medium    0.947232\n",
       "3 - Low       0.027661\n",
       "1 - High      0.025107\n",
       "Name: impact, dtype: float64"
      ]
     },
     "execution_count": 35,
     "metadata": {},
     "output_type": "execute_result"
    }
   ],
   "source": [
    "incident['impact'].value_counts(normalize=True)"
   ]
  },
  {
   "cell_type": "markdown",
   "metadata": {
    "id": "6jzRYQ0GNlzU"
   },
   "source": [
    "There are more number of incidents that had Medium impact. Low and High impact incidents are observed only 2.7% and 2.4% of all the incidents."
   ]
  },
  {
   "cell_type": "code",
   "execution_count": 36,
   "metadata": {
    "colab": {
     "base_uri": "https://localhost:8080/",
     "height": 375
    },
    "id": "igBcI74LNlzS",
    "outputId": "caba8f0c-23e5-4bb2-dc73-6cc88f50c6c8"
   },
   "outputs": [
    {
     "data": {
      "image/png": "[encoded data removed]",
      "text/plain": [
       "<Figure size 1008x432 with 1 Axes>"
      ]
     },
     "metadata": {
      "needs_background": "light"
     },
     "output_type": "display_data"
    }
   ],
   "source": [
    "plt.figure(figsize=(14,6))\n",
    "sns.countplot(x='incident_state',hue='impact',data=incident)\n",
    "plt.show()"
   ]
  },
  {
   "cell_type": "code",
   "execution_count": 37,
   "metadata": {
    "colab": {
     "base_uri": "https://localhost:8080/",
     "height": 295
    },
    "id": "o1xWxuiIjeUN",
    "outputId": "d4b0206e-5cfd-4e16-acbe-c5688c5e3dd0"
   },
   "outputs": [
    {
     "data": {
      "text/plain": [
       "<AxesSubplot:xlabel='urgency', ylabel='count'>"
      ]
     },
     "execution_count": 37,
     "metadata": {},
     "output_type": "execute_result"
    },
    {
     "data": {
      "image/png": "[encoded data removed]",
      "text/plain": [
       "<Figure size 432x288 with 1 Axes>"
      ]
     },
     "metadata": {
      "needs_background": "light"
     },
     "output_type": "display_data"
    }
   ],
   "source": [
    "sns.countplot(x='urgency',hue='impact',data=incident)"
   ]
  },
  {
   "cell_type": "markdown",
   "metadata": {
    "id": "UsvfVGH2j5F6"
   },
   "source": [
    "We can see that events having high urgency have high impact and events having low urgency have low impact."
   ]
  },
  {
   "cell_type": "code",
   "execution_count": 38,
   "metadata": {
    "colab": {
     "base_uri": "https://localhost:8080/",
     "height": 295
    },
    "id": "9hymcWo4kCdS",
    "outputId": "56ef2099-d440-4a1a-aa62-c4be3c57a046"
   },
   "outputs": [
    {
     "data": {
      "text/plain": [
       "<AxesSubplot:xlabel='priority', ylabel='count'>"
      ]
     },
     "execution_count": 38,
     "metadata": {},
     "output_type": "execute_result"
    },
    {
     "data": {
      "image/png": "[encoded data removed]",
      "text/plain": [
       "<Figure size 432x288 with 1 Axes>"
      ]
     },
     "metadata": {
      "needs_background": "light"
     },
     "output_type": "display_data"
    }
   ],
   "source": [
    "sns.countplot(x='priority',hue='impact',data=incident)"
   ]
  },
  {
   "cell_type": "markdown",
   "metadata": {
    "id": "RFuRbKDvkNeV"
   },
   "source": [
    "The events having high and critical priority have high impact, whereas low priority events have low impact."
   ]
  },
  {
   "cell_type": "code",
   "execution_count": 39,
   "metadata": {
    "colab": {
     "base_uri": "https://localhost:8080/",
     "height": 295
    },
    "id": "NR_cgJRBkJGr",
    "outputId": "d3c8a0e2-0e62-41c8-84d3-0314c3e05f19"
   },
   "outputs": [
    {
     "data": {
      "text/plain": [
       "<AxesSubplot:xlabel='impact', ylabel='count'>"
      ]
     },
     "execution_count": 39,
     "metadata": {},
     "output_type": "execute_result"
    },
    {
     "data": {
      "image/png": "[encoded data removed]",
      "text/plain": [
       "<Figure size 432x288 with 1 Axes>"
      ]
     },
     "metadata": {
      "needs_background": "light"
     },
     "output_type": "display_data"
    }
   ],
   "source": [
    "sns.countplot(x='impact',hue='active',data=incident)"
   ]
  },
  {
   "cell_type": "markdown",
   "metadata": {
    "id": "TcDd2WK7kzZW"
   },
   "source": [
    "We can see that there are more active users of moderate impact type."
   ]
  },
  {
   "cell_type": "code",
   "execution_count": 40,
   "metadata": {
    "colab": {
     "base_uri": "https://localhost:8080/",
     "height": 362
    },
    "id": "9vppoNFfkv11",
    "outputId": "0e27552e-cf9a-4de6-c2da-60c19ea32082"
   },
   "outputs": [
    {
     "data": {
      "text/html": [
       "<div>\n",
       "<style scoped>\n",
       "    .dataframe tbody tr th:only-of-type {\n",
       "        vertical-align: middle;\n",
       "    }\n",
       "\n",
       "    .dataframe tbody tr th {\n",
       "        vertical-align: top;\n",
       "    }\n",
       "\n",
       "    .dataframe thead th {\n",
       "        text-align: right;\n",
       "    }\n",
       "</style>\n",
       "<table border=\"1\" class=\"dataframe\">\n",
       "  <thead>\n",
       "    <tr style=\"text-align: right;\">\n",
       "      <th>impact</th>\n",
       "      <th>1 - High</th>\n",
       "      <th>2 - Medium</th>\n",
       "      <th>3 - Low</th>\n",
       "    </tr>\n",
       "    <tr>\n",
       "      <th>reopen_count</th>\n",
       "      <th></th>\n",
       "      <th></th>\n",
       "      <th></th>\n",
       "    </tr>\n",
       "  </thead>\n",
       "  <tbody>\n",
       "    <tr>\n",
       "      <th>0</th>\n",
       "      <td>2269</td>\n",
       "      <td>84907</td>\n",
       "      <td>2497</td>\n",
       "    </tr>\n",
       "    <tr>\n",
       "      <th>1</th>\n",
       "      <td>21</td>\n",
       "      <td>1209</td>\n",
       "      <td>26</td>\n",
       "    </tr>\n",
       "    <tr>\n",
       "      <th>2</th>\n",
       "      <td>0</td>\n",
       "      <td>125</td>\n",
       "      <td>0</td>\n",
       "    </tr>\n",
       "    <tr>\n",
       "      <th>3</th>\n",
       "      <td>0</td>\n",
       "      <td>57</td>\n",
       "      <td>0</td>\n",
       "    </tr>\n",
       "    <tr>\n",
       "      <th>4</th>\n",
       "      <td>0</td>\n",
       "      <td>48</td>\n",
       "      <td>0</td>\n",
       "    </tr>\n",
       "    <tr>\n",
       "      <th>5</th>\n",
       "      <td>0</td>\n",
       "      <td>24</td>\n",
       "      <td>0</td>\n",
       "    </tr>\n",
       "    <tr>\n",
       "      <th>6</th>\n",
       "      <td>0</td>\n",
       "      <td>18</td>\n",
       "      <td>0</td>\n",
       "    </tr>\n",
       "    <tr>\n",
       "      <th>7</th>\n",
       "      <td>0</td>\n",
       "      <td>5</td>\n",
       "      <td>0</td>\n",
       "    </tr>\n",
       "    <tr>\n",
       "      <th>8</th>\n",
       "      <td>0</td>\n",
       "      <td>4</td>\n",
       "      <td>0</td>\n",
       "    </tr>\n",
       "  </tbody>\n",
       "</table>\n",
       "</div>"
      ],
      "text/plain": [
       "impact        1 - High  2 - Medium  3 - Low\n",
       "reopen_count                               \n",
       "0                 2269       84907     2497\n",
       "1                   21        1209       26\n",
       "2                    0         125        0\n",
       "3                    0          57        0\n",
       "4                    0          48        0\n",
       "5                    0          24        0\n",
       "6                    0          18        0\n",
       "7                    0           5        0\n",
       "8                    0           4        0"
      ]
     },
     "execution_count": 40,
     "metadata": {},
     "output_type": "execute_result"
    }
   ],
   "source": [
    "pd.crosstab(incident['reopen_count'],incident['impact'])"
   ]
  },
  {
   "cell_type": "code",
   "execution_count": 41,
   "metadata": {
    "colab": {
     "base_uri": "https://localhost:8080/",
     "height": 205
    },
    "id": "cY_CZpEAmPAy",
    "outputId": "7ab07234-beac-4e32-ad6d-e02e4c277aa0"
   },
   "outputs": [
    {
     "data": {
      "text/html": [
       "<div>\n",
       "<style scoped>\n",
       "    .dataframe tbody tr th:only-of-type {\n",
       "        vertical-align: middle;\n",
       "    }\n",
       "\n",
       "    .dataframe tbody tr th {\n",
       "        vertical-align: top;\n",
       "    }\n",
       "\n",
       "    .dataframe thead th {\n",
       "        text-align: right;\n",
       "    }\n",
       "</style>\n",
       "<table border=\"1\" class=\"dataframe\">\n",
       "  <thead>\n",
       "    <tr style=\"text-align: right;\">\n",
       "      <th>impact</th>\n",
       "      <th>1 - High</th>\n",
       "      <th>2 - Medium</th>\n",
       "      <th>3 - Low</th>\n",
       "    </tr>\n",
       "    <tr>\n",
       "      <th>contact_type</th>\n",
       "      <th></th>\n",
       "      <th></th>\n",
       "      <th></th>\n",
       "    </tr>\n",
       "  </thead>\n",
       "  <tbody>\n",
       "    <tr>\n",
       "      <th>Direct opening</th>\n",
       "      <td>0</td>\n",
       "      <td>14</td>\n",
       "      <td>0</td>\n",
       "    </tr>\n",
       "    <tr>\n",
       "      <th>Email</th>\n",
       "      <td>0</td>\n",
       "      <td>160</td>\n",
       "      <td>0</td>\n",
       "    </tr>\n",
       "    <tr>\n",
       "      <th>Phone</th>\n",
       "      <td>2275</td>\n",
       "      <td>85469</td>\n",
       "      <td>2523</td>\n",
       "    </tr>\n",
       "    <tr>\n",
       "      <th>Self service</th>\n",
       "      <td>15</td>\n",
       "      <td>754</td>\n",
       "      <td>0</td>\n",
       "    </tr>\n",
       "  </tbody>\n",
       "</table>\n",
       "</div>"
      ],
      "text/plain": [
       "impact          1 - High  2 - Medium  3 - Low\n",
       "contact_type                                 \n",
       "Direct opening         0          14        0\n",
       "Email                  0         160        0\n",
       "Phone               2275       85469     2523\n",
       "Self service          15         754        0"
      ]
     },
     "execution_count": 41,
     "metadata": {},
     "output_type": "execute_result"
    }
   ],
   "source": [
    "pd.crosstab(incident['contact_type'],incident['impact'])"
   ]
  },
  {
   "cell_type": "markdown",
   "metadata": {
    "id": "utTOFH44m6gC"
   },
   "source": [
    "Most of the events were resolved on phone, while few high and moderate impact events were solved by providing self-service"
   ]
  },
  {
   "cell_type": "code",
   "execution_count": 42,
   "metadata": {
    "colab": {
     "base_uri": "https://localhost:8080/",
     "height": 143
    },
    "id": "tPELQJW6m25_",
    "outputId": "cf87e894-b0eb-4765-f087-8f44d543e601"
   },
   "outputs": [
    {
     "data": {
      "text/html": [
       "<div>\n",
       "<style scoped>\n",
       "    .dataframe tbody tr th:only-of-type {\n",
       "        vertical-align: middle;\n",
       "    }\n",
       "\n",
       "    .dataframe tbody tr th {\n",
       "        vertical-align: top;\n",
       "    }\n",
       "\n",
       "    .dataframe thead th {\n",
       "        text-align: right;\n",
       "    }\n",
       "</style>\n",
       "<table border=\"1\" class=\"dataframe\">\n",
       "  <thead>\n",
       "    <tr style=\"text-align: right;\">\n",
       "      <th>impact</th>\n",
       "      <th>1 - High</th>\n",
       "      <th>2 - Medium</th>\n",
       "      <th>3 - Low</th>\n",
       "    </tr>\n",
       "    <tr>\n",
       "      <th>knowledge</th>\n",
       "      <th></th>\n",
       "      <th></th>\n",
       "      <th></th>\n",
       "    </tr>\n",
       "  </thead>\n",
       "  <tbody>\n",
       "    <tr>\n",
       "      <th>False</th>\n",
       "      <td>0.020458</td>\n",
       "      <td>0.844173</td>\n",
       "      <td>0.017542</td>\n",
       "    </tr>\n",
       "    <tr>\n",
       "      <th>True</th>\n",
       "      <td>0.004649</td>\n",
       "      <td>0.103059</td>\n",
       "      <td>0.010120</td>\n",
       "    </tr>\n",
       "  </tbody>\n",
       "</table>\n",
       "</div>"
      ],
      "text/plain": [
       "impact     1 - High  2 - Medium   3 - Low\n",
       "knowledge                                \n",
       "False      0.020458    0.844173  0.017542\n",
       "True       0.004649    0.103059  0.010120"
      ]
     },
     "execution_count": 42,
     "metadata": {},
     "output_type": "execute_result"
    }
   ],
   "source": [
    "pd.crosstab(incident['knowledge'],incident['impact'],normalize=True)"
   ]
  },
  {
   "cell_type": "markdown",
   "metadata": {
    "id": "iN5LZIFroTWM"
   },
   "source": [
    "16% of the moderate impact incidents were resolved using knowledge based documents."
   ]
  },
  {
   "cell_type": "code",
   "execution_count": 43,
   "metadata": {
    "colab": {
     "base_uri": "https://localhost:8080/",
     "height": 143
    },
    "id": "eOxRhELwnp9n",
    "outputId": "8a28c178-f301-47b3-d288-f84e9779b819"
   },
   "outputs": [
    {
     "data": {
      "text/html": [
       "<div>\n",
       "<style scoped>\n",
       "    .dataframe tbody tr th:only-of-type {\n",
       "        vertical-align: middle;\n",
       "    }\n",
       "\n",
       "    .dataframe tbody tr th {\n",
       "        vertical-align: top;\n",
       "    }\n",
       "\n",
       "    .dataframe thead th {\n",
       "        text-align: right;\n",
       "    }\n",
       "</style>\n",
       "<table border=\"1\" class=\"dataframe\">\n",
       "  <thead>\n",
       "    <tr style=\"text-align: right;\">\n",
       "      <th>impact</th>\n",
       "      <th>1 - High</th>\n",
       "      <th>2 - Medium</th>\n",
       "      <th>3 - Low</th>\n",
       "    </tr>\n",
       "    <tr>\n",
       "      <th>u_priority_confirmation</th>\n",
       "      <th></th>\n",
       "      <th></th>\n",
       "      <th></th>\n",
       "    </tr>\n",
       "  </thead>\n",
       "  <tbody>\n",
       "    <tr>\n",
       "      <th>False</th>\n",
       "      <td>0.015305</td>\n",
       "      <td>0.663239</td>\n",
       "      <td>0.020699</td>\n",
       "    </tr>\n",
       "    <tr>\n",
       "      <th>True</th>\n",
       "      <td>0.009802</td>\n",
       "      <td>0.283993</td>\n",
       "      <td>0.006962</td>\n",
       "    </tr>\n",
       "  </tbody>\n",
       "</table>\n",
       "</div>"
      ],
      "text/plain": [
       "impact                   1 - High  2 - Medium   3 - Low\n",
       "u_priority_confirmation                                \n",
       "False                    0.015305    0.663239  0.020699\n",
       "True                     0.009802    0.283993  0.006962"
      ]
     },
     "execution_count": 43,
     "metadata": {},
     "output_type": "execute_result"
    }
   ],
   "source": [
    "pd.crosstab(incident['u_priority_confirmation'],incident['impact'],normalize=True)"
   ]
  },
  {
   "cell_type": "code",
   "execution_count": 44,
   "metadata": {
    "colab": {
     "base_uri": "https://localhost:8080/"
    },
    "id": "QWU800Kro2E0",
    "outputId": "e0f9cae8-d43a-432d-d689-fc631afe3e06"
   },
   "outputs": [
    {
     "data": {
      "text/plain": [
       "Do Not Notify    91140\n",
       "Send Email          70\n",
       "Name: notify, dtype: int64"
      ]
     },
     "execution_count": 44,
     "metadata": {},
     "output_type": "execute_result"
    }
   ],
   "source": [
    "incident['notify'].value_counts()"
   ]
  },
  {
   "cell_type": "code",
   "execution_count": 45,
   "metadata": {
    "colab": {
     "base_uri": "https://localhost:8080/",
     "height": 143
    },
    "id": "Y05OCR48prYl",
    "outputId": "5cce92df-d0b2-4088-8517-4951245697a9"
   },
   "outputs": [
    {
     "data": {
      "text/html": [
       "<div>\n",
       "<style scoped>\n",
       "    .dataframe tbody tr th:only-of-type {\n",
       "        vertical-align: middle;\n",
       "    }\n",
       "\n",
       "    .dataframe tbody tr th {\n",
       "        vertical-align: top;\n",
       "    }\n",
       "\n",
       "    .dataframe thead th {\n",
       "        text-align: right;\n",
       "    }\n",
       "</style>\n",
       "<table border=\"1\" class=\"dataframe\">\n",
       "  <thead>\n",
       "    <tr style=\"text-align: right;\">\n",
       "      <th>impact</th>\n",
       "      <th>1 - High</th>\n",
       "      <th>2 - Medium</th>\n",
       "      <th>3 - Low</th>\n",
       "    </tr>\n",
       "    <tr>\n",
       "      <th>notify</th>\n",
       "      <th></th>\n",
       "      <th></th>\n",
       "      <th></th>\n",
       "    </tr>\n",
       "  </thead>\n",
       "  <tbody>\n",
       "    <tr>\n",
       "      <th>Do Not Notify</th>\n",
       "      <td>0.025107</td>\n",
       "      <td>0.946464</td>\n",
       "      <td>0.027661</td>\n",
       "    </tr>\n",
       "    <tr>\n",
       "      <th>Send Email</th>\n",
       "      <td>0.000000</td>\n",
       "      <td>0.000767</td>\n",
       "      <td>0.000000</td>\n",
       "    </tr>\n",
       "  </tbody>\n",
       "</table>\n",
       "</div>"
      ],
      "text/plain": [
       "impact         1 - High  2 - Medium   3 - Low\n",
       "notify                                       \n",
       "Do Not Notify  0.025107    0.946464  0.027661\n",
       "Send Email     0.000000    0.000767  0.000000"
      ]
     },
     "execution_count": 45,
     "metadata": {},
     "output_type": "execute_result"
    }
   ],
   "source": [
    "pd.crosstab(incident['notify'],incident['impact'],normalize=True)"
   ]
  },
  {
   "cell_type": "markdown",
   "metadata": {
    "id": "6shpdR4Lp3H9"
   },
   "source": [
    "Notifications were not generated for almost all  incidents. Hence, we can remove them as they do not have significant unique values."
   ]
  },
  {
   "cell_type": "markdown",
   "metadata": {
    "id": "i22oKTyoqLvH"
   },
   "source": [
    "As urgency and priority give us the same intuition, we can say that they exhibit collinearity. Hence, we can remove priority and u_priority_confirmation.  "
   ]
  },
  {
   "cell_type": "code",
   "execution_count": 46,
   "metadata": {
    "id": "3U1Mdjskp0yf"
   },
   "outputs": [],
   "source": [
    "incident=incident.drop(['notify','priority','u_priority_confirmation','urgency'],axis=1)"
   ]
  },
  {
   "cell_type": "code",
   "execution_count": 47,
   "metadata": {
    "colab": {
     "base_uri": "https://localhost:8080/"
    },
    "id": "aKlZSd3Ns39J",
    "outputId": "012ae410-01c6-4f0d-b317-bf89deea4508"
   },
   "outputs": [
    {
     "name": "stdout",
     "output_type": "stream",
     "text": [
      "Number of columns after data cleaning:  24\n",
      "\n",
      "Index(['incident_state', 'active', 'reassignment_count', 'reopen_count',\n",
      "       'sys_mod_count', 'made_sla', 'caller_id', 'opened_by', 'opened_at',\n",
      "       'sys_created_by', 'sys_created_at', 'sys_updated_by', 'sys_updated_at',\n",
      "       'contact_type', 'location', 'category', 'subcategory', 'u_symptom',\n",
      "       'impact', 'assignment_group', 'assigned_to', 'knowledge', 'resolved_by',\n",
      "       'resolved_at'],\n",
      "      dtype='object')\n"
     ]
    }
   ],
   "source": [
    "print('Number of columns after data cleaning: ',len(incident.columns))\n",
    "print()\n",
    "print(incident.columns)"
   ]
  },
  {
   "cell_type": "markdown",
   "metadata": {
    "id": "Ke95U-_DcYvh"
   },
   "source": [
    "## Encoding variables"
   ]
  },
  {
   "cell_type": "code",
   "execution_count": 48,
   "metadata": {
    "id": "EutKYQvnNlzV"
   },
   "outputs": [],
   "source": [
    "#Change the datatypes of date and time variables\n",
    "incident['sys_updated_at']= pd.to_datetime(incident['sys_updated_at'])\n",
    "incident['sys_created_at']= pd.to_datetime(incident['sys_created_at'])\n",
    "incident['opened_at']= pd.to_datetime(incident['opened_at'])\n",
    "incident['resolved_at']= pd.to_datetime(incident['resolved_at'])"
   ]
  },
  {
   "cell_type": "code",
   "execution_count": 49,
   "metadata": {
    "id": "ZHzSmDk-u-8g"
   },
   "outputs": [],
   "source": [
    "incident_impact=incident['impact']\n",
    "incident_impact=incident_impact.replace({'1 - High':1,'2 - Medium':2,'3 - Low':3,})\n",
    "incident_features=incident.drop(['impact'],axis=1)\n"
   ]
  },
  {
   "cell_type": "markdown",
   "metadata": {
    "id": "Pv4P0lY8tUjz"
   },
   "source": [
    "Let us extract the important part of variables or the substring from every feature."
   ]
  },
  {
   "cell_type": "code",
   "execution_count": 50,
   "metadata": {
    "colab": {
     "base_uri": "https://localhost:8080/",
     "height": 613
    },
    "id": "MwTK7pTFv1mQ",
    "outputId": "7ea0975b-f642-4597-99a0-36546eb48798"
   },
   "outputs": [],
   "source": [
    "incident_features['caller_id']=incident_features['caller_id'].apply(lambda x: int(x.split(' ')[-1]))\n",
    "incident_features['u_symptom']=incident_features['u_symptom'].apply(lambda x: int(x.split(' ')[-1]))\n",
    "incident_features['opened_by']=incident_features['opened_by'].apply(lambda x: int(x.split(' ')[-1]))\n",
    "incident_features['sys_created_by']=incident_features['sys_created_by'].apply(lambda x: int(x.split(' ')[-1]))\n",
    "incident_features['sys_updated_by']=incident_features['sys_updated_by'].apply(lambda x: int(x.split(' ')[-1]))\n",
    "incident_features['location']=incident_features['location'].apply(lambda x: int(x.split(' ')[1]))\n",
    "incident_features['category']=incident_features['category'].apply(lambda x: int(x.split(' ')[1]))\n",
    "incident_features['subcategory']=incident_features['subcategory'].apply(lambda x: int(x.split(' ')[1]))\n",
    "incident_features['assignment_group']=incident_features['assignment_group'].apply(lambda x: int(x.split(' ')[1]))\n",
    "incident_features['assigned_to']=incident_features['assigned_to'].apply(lambda x: int(x.split(' ')[1]))\n",
    "incident_features['resolved_by']=incident_features['resolved_by'].apply(lambda x: int(x.split(' ')[-1]))"
   ]
  },
  {
   "cell_type": "code",
   "execution_count": 51,
   "metadata": {
    "id": "ovcu4jgLl366"
   },
   "outputs": [],
   "source": [
    "incident_object=incident_features.select_dtypes(include='object')\n",
    "\n",
    "#Label encoding\n",
    "from sklearn.preprocessing import LabelEncoder\n",
    "for col in incident_object.columns:\n",
    "    incident_features[col]=LabelEncoder().fit_transform(incident_features[col])"
   ]
  },
  {
   "cell_type": "code",
   "execution_count": 52,
   "metadata": {
    "colab": {
     "base_uri": "https://localhost:8080/",
     "height": 398
    },
    "id": "NagoI6zK4XET",
    "outputId": "4067d932-220a-4d68-8719-f71596757a7e"
   },
   "outputs": [
    {
     "data": {
      "text/html": [
       "<div>\n",
       "<style scoped>\n",
       "    .dataframe tbody tr th:only-of-type {\n",
       "        vertical-align: middle;\n",
       "    }\n",
       "\n",
       "    .dataframe tbody tr th {\n",
       "        vertical-align: top;\n",
       "    }\n",
       "\n",
       "    .dataframe thead th {\n",
       "        text-align: right;\n",
       "    }\n",
       "</style>\n",
       "<table border=\"1\" class=\"dataframe\">\n",
       "  <thead>\n",
       "    <tr style=\"text-align: right;\">\n",
       "      <th></th>\n",
       "      <th>incident_state</th>\n",
       "      <th>active</th>\n",
       "      <th>reassignment_count</th>\n",
       "      <th>reopen_count</th>\n",
       "      <th>sys_mod_count</th>\n",
       "      <th>made_sla</th>\n",
       "      <th>caller_id</th>\n",
       "      <th>opened_by</th>\n",
       "      <th>opened_at</th>\n",
       "      <th>sys_created_by</th>\n",
       "      <th>...</th>\n",
       "      <th>contact_type</th>\n",
       "      <th>location</th>\n",
       "      <th>category</th>\n",
       "      <th>subcategory</th>\n",
       "      <th>u_symptom</th>\n",
       "      <th>assignment_group</th>\n",
       "      <th>assigned_to</th>\n",
       "      <th>knowledge</th>\n",
       "      <th>resolved_by</th>\n",
       "      <th>resolved_at</th>\n",
       "    </tr>\n",
       "  </thead>\n",
       "  <tbody>\n",
       "    <tr>\n",
       "      <th>0</th>\n",
       "      <td>7</td>\n",
       "      <td>1</td>\n",
       "      <td>0</td>\n",
       "      <td>0</td>\n",
       "      <td>0</td>\n",
       "      <td>1</td>\n",
       "      <td>2403</td>\n",
       "      <td>8</td>\n",
       "      <td>2016-02-29 01:16:00</td>\n",
       "      <td>6</td>\n",
       "      <td>...</td>\n",
       "      <td>2</td>\n",
       "      <td>143</td>\n",
       "      <td>55</td>\n",
       "      <td>170</td>\n",
       "      <td>72</td>\n",
       "      <td>56</td>\n",
       "      <td>17</td>\n",
       "      <td>1</td>\n",
       "      <td>149</td>\n",
       "      <td>2016-02-29 11:29:00</td>\n",
       "    </tr>\n",
       "    <tr>\n",
       "      <th>1</th>\n",
       "      <td>8</td>\n",
       "      <td>1</td>\n",
       "      <td>0</td>\n",
       "      <td>0</td>\n",
       "      <td>2</td>\n",
       "      <td>1</td>\n",
       "      <td>2403</td>\n",
       "      <td>8</td>\n",
       "      <td>2016-02-29 01:16:00</td>\n",
       "      <td>6</td>\n",
       "      <td>...</td>\n",
       "      <td>2</td>\n",
       "      <td>143</td>\n",
       "      <td>55</td>\n",
       "      <td>170</td>\n",
       "      <td>72</td>\n",
       "      <td>56</td>\n",
       "      <td>17</td>\n",
       "      <td>1</td>\n",
       "      <td>149</td>\n",
       "      <td>2016-02-29 11:29:00</td>\n",
       "    </tr>\n",
       "    <tr>\n",
       "      <th>2</th>\n",
       "      <td>8</td>\n",
       "      <td>1</td>\n",
       "      <td>0</td>\n",
       "      <td>0</td>\n",
       "      <td>3</td>\n",
       "      <td>1</td>\n",
       "      <td>2403</td>\n",
       "      <td>8</td>\n",
       "      <td>2016-02-29 01:16:00</td>\n",
       "      <td>6</td>\n",
       "      <td>...</td>\n",
       "      <td>2</td>\n",
       "      <td>143</td>\n",
       "      <td>55</td>\n",
       "      <td>170</td>\n",
       "      <td>72</td>\n",
       "      <td>56</td>\n",
       "      <td>17</td>\n",
       "      <td>1</td>\n",
       "      <td>149</td>\n",
       "      <td>2016-02-29 11:29:00</td>\n",
       "    </tr>\n",
       "    <tr>\n",
       "      <th>3</th>\n",
       "      <td>6</td>\n",
       "      <td>0</td>\n",
       "      <td>0</td>\n",
       "      <td>0</td>\n",
       "      <td>4</td>\n",
       "      <td>1</td>\n",
       "      <td>2403</td>\n",
       "      <td>8</td>\n",
       "      <td>2016-02-29 01:16:00</td>\n",
       "      <td>6</td>\n",
       "      <td>...</td>\n",
       "      <td>2</td>\n",
       "      <td>143</td>\n",
       "      <td>55</td>\n",
       "      <td>170</td>\n",
       "      <td>72</td>\n",
       "      <td>56</td>\n",
       "      <td>17</td>\n",
       "      <td>1</td>\n",
       "      <td>149</td>\n",
       "      <td>2016-02-29 11:29:00</td>\n",
       "    </tr>\n",
       "    <tr>\n",
       "      <th>4</th>\n",
       "      <td>7</td>\n",
       "      <td>1</td>\n",
       "      <td>0</td>\n",
       "      <td>0</td>\n",
       "      <td>0</td>\n",
       "      <td>1</td>\n",
       "      <td>2403</td>\n",
       "      <td>397</td>\n",
       "      <td>2016-02-29 04:40:00</td>\n",
       "      <td>171</td>\n",
       "      <td>...</td>\n",
       "      <td>2</td>\n",
       "      <td>165</td>\n",
       "      <td>40</td>\n",
       "      <td>215</td>\n",
       "      <td>471</td>\n",
       "      <td>70</td>\n",
       "      <td>89</td>\n",
       "      <td>1</td>\n",
       "      <td>81</td>\n",
       "      <td>2016-01-03 09:52:00</td>\n",
       "    </tr>\n",
       "  </tbody>\n",
       "</table>\n",
       "<p>5 rows × 23 columns</p>\n",
       "</div>"
      ],
      "text/plain": [
       "   incident_state  active  reassignment_count  reopen_count  sys_mod_count  \\\n",
       "0               7       1                   0             0              0   \n",
       "1               8       1                   0             0              2   \n",
       "2               8       1                   0             0              3   \n",
       "3               6       0                   0             0              4   \n",
       "4               7       1                   0             0              0   \n",
       "\n",
       "   made_sla  caller_id  opened_by           opened_at  sys_created_by  ...  \\\n",
       "0         1       2403          8 2016-02-29 01:16:00               6  ...   \n",
       "1         1       2403          8 2016-02-29 01:16:00               6  ...   \n",
       "2         1       2403          8 2016-02-29 01:16:00               6  ...   \n",
       "3         1       2403          8 2016-02-29 01:16:00               6  ...   \n",
       "4         1       2403        397 2016-02-29 04:40:00             171  ...   \n",
       "\n",
       "  contact_type  location category  subcategory  u_symptom  assignment_group  \\\n",
       "0            2       143       55          170         72                56   \n",
       "1            2       143       55          170         72                56   \n",
       "2            2       143       55          170         72                56   \n",
       "3            2       143       55          170         72                56   \n",
       "4            2       165       40          215        471                70   \n",
       "\n",
       "   assigned_to  knowledge  resolved_by         resolved_at  \n",
       "0           17          1          149 2016-02-29 11:29:00  \n",
       "1           17          1          149 2016-02-29 11:29:00  \n",
       "2           17          1          149 2016-02-29 11:29:00  \n",
       "3           17          1          149 2016-02-29 11:29:00  \n",
       "4           89          1           81 2016-01-03 09:52:00  \n",
       "\n",
       "[5 rows x 23 columns]"
      ]
     },
     "execution_count": 52,
     "metadata": {},
     "output_type": "execute_result"
    }
   ],
   "source": [
    "incident_features.head()"
   ]
  },
  {
   "cell_type": "markdown",
   "metadata": {
    "id": "SCGMEI8rdEyZ"
   },
   "source": [
    "Dealing with datetime variables."
   ]
  },
  {
   "cell_type": "markdown",
   "metadata": {
    "id": "4hVAjl4igukL"
   },
   "source": [
    "Let us split the date variables to their respective day, month, year and hour features for easy numerical encoding and analysis."
   ]
  },
  {
   "cell_type": "code",
   "execution_count": 53,
   "metadata": {
    "colab": {
     "base_uri": "https://localhost:8080/"
    },
    "id": "owrLfDHAdJ6H",
    "outputId": "6e8c82e5-5d65-4389-b1da-8093e7df9c1b"
   },
   "outputs": [
    {
     "data": {
      "text/plain": [
       "Index(['opened_at', 'sys_created_at', 'sys_updated_at', 'resolved_at'], dtype='object')"
      ]
     },
     "execution_count": 53,
     "metadata": {},
     "output_type": "execute_result"
    }
   ],
   "source": [
    "incident_features.select_dtypes(include=['datetime64']).columns"
   ]
  },
  {
   "cell_type": "code",
   "execution_count": 54,
   "metadata": {
    "id": "bie9Tt2bdJ3N"
   },
   "outputs": [],
   "source": [
    "#Extract day,month, year and hour for opened_at variable\n",
    "incident_features[\"opened_day\"]=incident_features['opened_at'].dt.day\n",
    "incident_features[\"opened_month\"]=incident_features['opened_at'].dt.month\n",
    "incident_features[\"opened_year\"]=incident_features['opened_at'].dt.year\n",
    "incident_features[\"opened_hour\"]=incident_features['opened_at'].dt.hour\n",
    "\n",
    "#Extract day,month, year and hour for sys_created_at variable\n",
    "incident_features[\"syscreated_day\"]=incident_features['sys_created_at'].dt.day\n",
    "incident_features[\"syscreated_month\"]=incident_features['sys_created_at'].dt.month\n",
    "incident_features[\"syscreated_year\"]=incident_features['sys_created_at'].dt.year\n",
    "incident_features[\"syscreated_hour\"]=incident_features['sys_created_at'].dt.hour\n",
    "\n",
    "#Extract day,month, year and hour for sys_updated_at variable\n",
    "incident_features[\"sysupdated_day\"]=incident_features['sys_updated_at'].dt.day\n",
    "incident_features[\"sysupdated_month\"]=incident_features['sys_updated_at'].dt.month\n",
    "incident_features[\"sysupdated_year\"]=incident_features['sys_updated_at'].dt.year\n",
    "incident_features[\"sysupdated_hour\"]=incident_features['sys_updated_at'].dt.hour\n",
    "\n",
    "#Extract day,month, year and hour for resolved_at variable\n",
    "incident_features[\"resolved_day\"]=incident_features['resolved_at'].dt.day\n",
    "incident_features[\"resolved_month\"]=incident_features['resolved_at'].dt.month\n",
    "incident_features[\"resolved_year\"]=incident_features['resolved_at'].dt.year\n",
    "incident_features[\"resolved_hour\"]=incident_features['resolved_at'].dt.hour\n",
    "\n",
    "#Drop the date columns\n",
    "incident_features=incident_features.drop(['opened_at','sys_updated_at','sys_created_at','resolved_at'],axis=1)\n"
   ]
  },
  {
   "cell_type": "code",
   "execution_count": 55,
   "metadata": {
    "colab": {
     "base_uri": "https://localhost:8080/"
    },
    "id": "7r0S9u9zjkGf",
    "outputId": "dfca2726-bc46-4e3d-b551-905ba6e10cdf"
   },
   "outputs": [
    {
     "data": {
      "text/plain": [
       "(91210, 35)"
      ]
     },
     "execution_count": 55,
     "metadata": {},
     "output_type": "execute_result"
    }
   ],
   "source": [
    "incident_features.shape"
   ]
  },
  {
   "cell_type": "markdown",
   "metadata": {
    "id": "XPhb1NVehEmM"
   },
   "source": [
    "## Balancing the data"
   ]
  },
  {
   "cell_type": "code",
   "execution_count": 56,
   "metadata": {
    "id": "GYGBpsyDrxV6"
   },
   "outputs": [],
   "source": [
    "#Seperate independent and dependent variables\n",
    "X=incident_features.copy()\n",
    "target=incident_impact"
   ]
  },
  {
   "cell_type": "code",
   "execution_count": 57,
   "metadata": {
    "id": "VvDxeEDvJj0w"
   },
   "outputs": [],
   "source": [
    "from sklearn.model_selection import train_test_split\n",
    "X_train, val_features, y_train, val_impact = train_test_split(X, target, test_size=0.1,random_state=1,stratify=target)"
   ]
  },
  {
   "cell_type": "code",
   "execution_count": 58,
   "metadata": {
    "colab": {
     "base_uri": "https://localhost:8080/"
    },
    "id": "lGy6qj4ZxR2s",
    "outputId": "6fafc486-ba3f-4c24-fd45-2fad5f065f09"
   },
   "outputs": [
    {
     "name": "stdout",
     "output_type": "stream",
     "text": [
      "(82089, 35) (9121, 35) (82089,) (9121,)\n"
     ]
    }
   ],
   "source": [
    "print(X_train.shape, val_features.shape, y_train.shape, val_impact.shape)"
   ]
  },
  {
   "cell_type": "code",
   "execution_count": 59,
   "metadata": {
    "id": "s6lLqVrMs-tT"
   },
   "outputs": [],
   "source": [
    "#Split the 100% train dataset further into 70%train and 30%test and apply smote on 80% train dataset\n",
    "X_train_new, X_test_new, y_train_new, y_test_new = train_test_split(X_train, y_train,\n",
    "                                                  test_size = .3,\n",
    "                                                  random_state=10)"
   ]
  },
  {
   "cell_type": "code",
   "execution_count": 60,
   "metadata": {
    "colab": {
     "base_uri": "https://localhost:8080/"
    },
    "id": "Ku1K0qw4xaXD",
    "outputId": "db75d2db-6880-4eb3-a66b-7eccd96c3d46"
   },
   "outputs": [
    {
     "name": "stdout",
     "output_type": "stream",
     "text": [
      "(57462, 35) (24627, 35) (57462,) (24627,)\n"
     ]
    }
   ],
   "source": [
    "print(X_train_new.shape, X_test_new.shape, y_train_new.shape, y_test_new.shape)"
   ]
  },
  {
   "cell_type": "code",
   "execution_count": 61,
   "metadata": {
    "colab": {
     "base_uri": "https://localhost:8080/"
    },
    "id": "lnEVgaDMt9Z7",
    "outputId": "276682ac-7fd7-426b-9bcd-e62060d9fd45"
   },
   "outputs": [
    {
     "name": "stdout",
     "output_type": "stream",
     "text": [
      "Impact counts before balancing:\n",
      "  2    54437\n",
      "3     1610\n",
      "1     1415\n",
      "Name: impact, dtype: int64\n",
      "Impact counts after balancing: \n",
      " 3    54437\n",
      "2    54437\n",
      "1    54437\n",
      "Name: impact, dtype: int64\n"
     ]
    }
   ],
   "source": [
    "from imblearn.over_sampling import SMOTE\n",
    "oversample=SMOTE()\n",
    "x_balanced,y_balanced=oversample.fit_resample(X_train_new,y_train_new)\n",
    "y_balanced=pd.Series(y_balanced)\n",
    "\n",
    "print(\"Impact counts before balancing:\\n \",y_train_new.value_counts())\n",
    "print(\"Impact counts after balancing: \\n\",y_balanced.value_counts())"
   ]
  },
  {
   "cell_type": "code",
   "execution_count": 62,
   "metadata": {
    "colab": {
     "base_uri": "https://localhost:8080/",
     "height": 384
    },
    "id": "_0fbr5eNtBYj",
    "outputId": "c773ef78-8eb2-4b24-80c7-cf9e7911b8fe"
   },
   "outputs": [
    {
     "name": "stderr",
     "output_type": "stream",
     "text": [
      "C:\\Users\\Mahesh\\anaconda3\\lib\\site-packages\\seaborn\\_decorators.py:36: FutureWarning: Pass the following variable as a keyword arg: x. From version 0.12, the only valid positional argument will be `data`, and passing other arguments without an explicit keyword will result in an error or misinterpretation.\n",
      "  warnings.warn(\n",
      "C:\\Users\\Mahesh\\anaconda3\\lib\\site-packages\\seaborn\\_decorators.py:36: FutureWarning: Pass the following variable as a keyword arg: x. From version 0.12, the only valid positional argument will be `data`, and passing other arguments without an explicit keyword will result in an error or misinterpretation.\n",
      "  warnings.warn(\n"
     ]
    },
    {
     "data": {
      "image/png": "[encoded data removed]",
      "text/plain": [
       "<Figure size 864x288 with 2 Axes>"
      ]
     },
     "metadata": {
      "needs_background": "light"
     },
     "output_type": "display_data"
    }
   ],
   "source": [
    "figure,axes=plt.subplots(1,2,figsize=(12,4))\n",
    "\n",
    "sns.countplot(y_train_new,ax=axes[0])\n",
    "axes[0].set_title('Original data')\n",
    "\n",
    "sns.countplot(y_balanced,ax=axes[1])\n",
    "axes[1].set_title('After oversampling')\n",
    "plt.show()"
   ]
  },
  {
   "cell_type": "markdown",
   "metadata": {
    "id": "9ubT9UcSxkaJ"
   },
   "source": [
    "## Feature engineering"
   ]
  },
  {
   "cell_type": "markdown",
   "metadata": {
    "id": "I_ii2aIxhV-o"
   },
   "source": [
    "###  Chi2 test"
   ]
  },
  {
   "cell_type": "code",
   "execution_count": 63,
   "metadata": {
    "colab": {
     "base_uri": "https://localhost:8080/"
    },
    "id": "_p5B2oS7gaLt",
    "outputId": "e19f9cd7-27ea-4319-9d9c-ae9a528614bc"
   },
   "outputs": [
    {
     "name": "stdout",
     "output_type": "stream",
     "text": [
      "[4.729e+02 5.679e+02 6.150e+03 7.911e+02 2.874e+03 5.898e+02 2.203e+06\n",
      " 7.299e+05 1.623e+05 1.663e+05 7.874e-01 4.046e+04 4.135e+03 1.716e+04\n",
      " 4.472e+03 1.542e+03 5.801e+04 6.286e+03 7.967e+04 1.357e+04 2.265e+03\n",
      " 6.380e-04 5.612e+03 1.351e+04 2.264e+03 6.380e-04 4.874e+03 7.038e+03\n",
      " 1.783e+03 8.344e-04 2.089e+03 2.153e+03 1.343e+03 9.035e-04 1.758e+03]\n"
     ]
    }
   ],
   "source": [
    "# Feature Extraction with Univariate Statistical Chi-squared Test for classification)\n",
    "from numpy import set_printoptions\n",
    "from sklearn.feature_selection import SelectKBest\n",
    "from sklearn.feature_selection import chi2\n",
    "\n",
    "# feature extraction\n",
    "test = SelectKBest(score_func=chi2, k=12)\n",
    "fit = test.fit(x_balanced, y_balanced)\n",
    "# summarize scores\n",
    "set_printoptions(precision=3)\n",
    "print(fit.scores_)\n",
    "features = fit.transform(x_balanced)\n"
   ]
  },
  {
   "cell_type": "code",
   "execution_count": 64,
   "metadata": {
    "id": "yk8YfuqAlCxX"
   },
   "outputs": [],
   "source": [
    "scores=fit.scores_\n",
    "scores=pd.Series(scores)\n",
    "scores.index=incident_features.columns\n",
    "scores=scores.sort_values(ascending=False)\n"
   ]
  },
  {
   "cell_type": "code",
   "execution_count": 65,
   "metadata": {
    "colab": {
     "base_uri": "https://localhost:8080/",
     "height": 425
    },
    "id": "Y-Q6fiuRnIts",
    "outputId": "d4d926d1-0479-4cd4-96c7-bbfa71ff46e5"
   },
   "outputs": [
    {
     "data": {
      "text/plain": [
       "<AxesSubplot:>"
      ]
     },
     "execution_count": 65,
     "metadata": {},
     "output_type": "execute_result"
    },
    {
     "data": {
      "image/png": "[encoded data removed]",
      "text/plain": [
       "<Figure size 864x360 with 1 Axes>"
      ]
     },
     "metadata": {
      "needs_background": "light"
     },
     "output_type": "display_data"
    }
   ],
   "source": [
    "plt.figure(figsize=(12,5))\n",
    "scores.plot.bar()"
   ]
  },
  {
   "cell_type": "code",
   "execution_count": 66,
   "metadata": {
    "colab": {
     "base_uri": "https://localhost:8080/"
    },
    "id": "GWz9N7zErgJw",
    "outputId": "42b2d751-7bf7-4410-d007-8f8b19697db6"
   },
   "outputs": [
    {
     "name": "stdout",
     "output_type": "stream",
     "text": [
      "caller_id             2.202790e+06\n",
      "opened_by             7.299256e+05\n",
      "sys_updated_by        1.663086e+05\n",
      "sys_created_by        1.623142e+05\n",
      "resolved_by           7.967417e+04\n",
      "assigned_to           5.801088e+04\n",
      "location              4.046171e+04\n",
      "subcategory           1.716324e+04\n",
      "opened_day            1.356509e+04\n",
      "syscreated_day        1.351441e+04\n",
      "sysupdated_day        7.038335e+03\n",
      "knowledge             6.285545e+03\n",
      "reassignment_count    6.150357e+03\n",
      "opened_hour           5.611584e+03\n",
      "syscreated_hour       4.874351e+03\n",
      "u_symptom             4.472380e+03\n",
      "dtype: float64\n"
     ]
    }
   ],
   "source": [
    "print(scores[:16])"
   ]
  },
  {
   "cell_type": "markdown",
   "metadata": {
    "id": "Dd6twnTQ7E_o"
   },
   "source": [
    "###  Mutual information classification"
   ]
  },
  {
   "cell_type": "code",
   "execution_count": 67,
   "metadata": {
    "colab": {
     "base_uri": "https://localhost:8080/"
    },
    "id": "1yejcXlSk2RC",
    "outputId": "1679fb24-c7b6-45fd-b6f9-38307b9faedf"
   },
   "outputs": [
    {
     "name": "stdout",
     "output_type": "stream",
     "text": [
      "[0.073 0.015 0.013 0.003 0.036 0.024 0.456 0.487 0.231 0.324 0.017 0.163\n",
      " 0.178 0.189 0.151 0.186 0.257 0.024 0.299 0.067 0.034 0.012 0.082 0.068\n",
      " 0.034 0.012 0.081 0.052 0.026 0.01  0.043 0.051 0.025 0.009 0.046]\n"
     ]
    }
   ],
   "source": [
    "from sklearn.feature_selection import mutual_info_classif\n",
    "fs = SelectKBest(score_func=mutual_info_classif, k=15)\n",
    "fs.fit(x_balanced, y_balanced)\n",
    "X_train_fs = fs.transform(x_balanced)\n",
    "print(fs.scores_)"
   ]
  },
  {
   "cell_type": "code",
   "execution_count": 68,
   "metadata": {
    "colab": {
     "base_uri": "https://localhost:8080/"
    },
    "id": "3yXd5haOv560",
    "outputId": "2cff00fa-9a69-4a17-88d8-e408335c8ffa"
   },
   "outputs": [
    {
     "data": {
      "text/plain": [
       "Index(['incident_state', 'caller_id', 'opened_by', 'sys_created_by',\n",
       "       'sys_updated_by', 'location', 'category', 'subcategory', 'u_symptom',\n",
       "       'assignment_group', 'assigned_to', 'resolved_by', 'opened_hour',\n",
       "       'syscreated_day', 'syscreated_hour'],\n",
       "      dtype='object')"
      ]
     },
     "execution_count": 68,
     "metadata": {},
     "output_type": "execute_result"
    }
   ],
   "source": [
    "X.columns[fs.get_support()]"
   ]
  },
  {
   "cell_type": "markdown",
   "metadata": {
    "id": "DhX8jFaG5oVi"
   },
   "source": [
    "###  Feature Importance using Decision Tree"
   ]
  },
  {
   "cell_type": "code",
   "execution_count": 69,
   "metadata": {
    "colab": {
     "base_uri": "https://localhost:8080/"
    },
    "id": "OiJi61DayJ9R",
    "outputId": "6f1ccbe8-8700-4564-f14b-8a446dce19f7"
   },
   "outputs": [
    {
     "name": "stdout",
     "output_type": "stream",
     "text": [
      "[4.277e-03 4.908e-04 9.904e-03 3.215e-03 2.332e-02 3.722e-03 7.697e-02\n",
      " 2.425e-01 3.147e-02 1.315e-02 2.193e-04 3.711e-02 4.850e-02 4.620e-02\n",
      " 3.059e-02 9.872e-02 1.864e-02 3.102e-02 4.520e-02 1.353e-02 1.336e-02\n",
      " 1.727e-05 3.971e-02 2.357e-02 7.146e-03 3.858e-05 5.559e-02 4.417e-03\n",
      " 2.788e-03 2.495e-04 4.379e-03 3.269e-02 2.267e-02 5.437e-04 1.401e-02]\n"
     ]
    }
   ],
   "source": [
    "from sklearn.tree import  DecisionTreeClassifier\n",
    "model = DecisionTreeClassifier()\n",
    "fit=model.fit(x_balanced, y_balanced)\n",
    "print(model.feature_importances_)"
   ]
  },
  {
   "cell_type": "code",
   "execution_count": 70,
   "metadata": {
    "id": "nJoh_Ygt0B2Z"
   },
   "outputs": [],
   "source": [
    "features_imp=model.feature_importances_\n",
    "features_imp=pd.Series(features_imp)\n",
    "features_imp.index=incident_features.columns\n",
    "features_imp=features_imp.sort_values(ascending=False)\n"
   ]
  },
  {
   "cell_type": "code",
   "execution_count": 71,
   "metadata": {
    "colab": {
     "base_uri": "https://localhost:8080/",
     "height": 415
    },
    "id": "63_7fRv83pZb",
    "outputId": "6ea8dad2-654b-4191-f159-e100b4a150ae"
   },
   "outputs": [
    {
     "data": {
      "text/plain": [
       "<AxesSubplot:>"
      ]
     },
     "execution_count": 71,
     "metadata": {},
     "output_type": "execute_result"
    },
    {
     "data": {
      "image/png": "[encoded data removed]",
      "text/plain": [
       "<Figure size 864x360 with 1 Axes>"
      ]
     },
     "metadata": {
      "needs_background": "light"
     },
     "output_type": "display_data"
    }
   ],
   "source": [
    "plt.figure(figsize=(12,5))\n",
    "features_imp.plot.bar()"
   ]
  },
  {
   "cell_type": "code",
   "execution_count": 72,
   "metadata": {
    "colab": {
     "base_uri": "https://localhost:8080/"
    },
    "id": "NWS75e245SUq",
    "outputId": "67a46923-cd2d-437b-9a17-16baba12f373"
   },
   "outputs": [
    {
     "name": "stdout",
     "output_type": "stream",
     "text": [
      "opened_by           0.242548\n",
      "assignment_group    0.098723\n",
      "caller_id           0.076967\n",
      "syscreated_hour     0.055593\n",
      "category            0.048497\n",
      "subcategory         0.046203\n",
      "resolved_by         0.045203\n",
      "opened_hour         0.039714\n",
      "location            0.037110\n",
      "resolved_day        0.032692\n",
      "sys_created_by      0.031471\n",
      "knowledge           0.031016\n",
      "u_symptom           0.030594\n",
      "syscreated_day      0.023570\n",
      "sys_mod_count       0.023322\n",
      "resolved_month      0.022675\n",
      "dtype: float64\n"
     ]
    }
   ],
   "source": [
    "print(features_imp[:16])"
   ]
  },
  {
   "cell_type": "code",
   "execution_count": 73,
   "metadata": {
    "id": "o04X6AE-5UR8"
   },
   "outputs": [],
   "source": [
    "#Top 15 selected features from each model\n",
    "chi2_features=scores[:13].to_dict()\n",
    "chi2_features=set(chi2_features.keys())\n",
    "\n",
    "mutualinfo_features=set(X.columns[fs.get_support()])\n",
    "\n",
    "rfe_features=features_imp[:13].to_dict()\n",
    "rfe_features=set(rfe_features.keys())"
   ]
  },
  {
   "cell_type": "code",
   "execution_count": 74,
   "metadata": {
    "colab": {
     "base_uri": "https://localhost:8080/"
    },
    "id": "8J_xzJ-99Xb2",
    "outputId": "e1681fe5-19e8-4092-af6a-e6ad9879c89a"
   },
   "outputs": [
    {
     "name": "stdout",
     "output_type": "stream",
     "text": [
      "['resolved_by', 'subcategory', 'location', 'opened_by', 'sys_created_by', 'caller_id']\n"
     ]
    }
   ],
   "source": [
    "#Use intersection fuction to get the common features from all the three sets\n",
    "chi2_features = chi2_features.intersection(mutualinfo_features)\n",
    "output_set = chi2_features.intersection(rfe_features)\n",
    "output_list = list(output_set)\n",
    "print(output_list)"
   ]
  },
  {
   "cell_type": "markdown",
   "metadata": {
    "id": "o8-A9d3VTMjk"
   },
   "source": [
    "Therefore, we select the following features to predict the impact.\n",
    "\n",
    "\n",
    "*   opened_by,resolved_by,caller_id,sys_created_by,subcategory,location\n",
    "\n",
    "\n"
   ]
  },
  {
   "cell_type": "markdown",
   "metadata": {
    "id": "ukbimjjAT3kj"
   },
   "source": [
    "Also, there are other important variables like location, opened_hour and sys_updated_by by comparing columns from features selection methods chi2 and mutual_info."
   ]
  },
  {
   "cell_type": "code",
   "execution_count": 75,
   "metadata": {
    "id": "DTOXHLiFUkQf"
   },
   "outputs": [],
   "source": [
    "#Let us create a dataframe having significant features in train and test datasets\n",
    "columns=['opened_by', 'resolved_by', 'caller_id', 'sys_created_by', 'subcategory', 'location','sys_updated_by','opened_hour','assigned_to']\n",
    "X_train_new=X_train_new[columns]\n",
    "X_test_new=X_test_new[columns]\n",
    "X_train=X_train[columns]\n",
    "val_features=val_features[columns]"
   ]
  },
  {
   "cell_type": "code",
   "execution_count": 76,
   "metadata": {
    "colab": {
     "base_uri": "https://localhost:8080/"
    },
    "id": "EFJW50TWWhpt",
    "outputId": "f8032c86-b65a-4291-b26c-3fa81d5832c4"
   },
   "outputs": [
    {
     "data": {
      "text/plain": [
       "(91210, 35)"
      ]
     },
     "execution_count": 76,
     "metadata": {},
     "output_type": "execute_result"
    }
   ],
   "source": [
    "X.shape"
   ]
  },
  {
   "cell_type": "code",
   "execution_count": 77,
   "metadata": {
    "colab": {
     "base_uri": "https://localhost:8080/"
    },
    "id": "OJFavtzD5YHv",
    "outputId": "21cbdd48-f0cc-4064-ade5-6b14c0808926"
   },
   "outputs": [
    {
     "data": {
      "text/plain": [
       "(163311, 9)"
      ]
     },
     "execution_count": 77,
     "metadata": {},
     "output_type": "execute_result"
    }
   ],
   "source": [
    "x_balanced=pd.DataFrame(x_balanced,columns=X.columns)\n",
    "x_balanced=x_balanced[columns]\n",
    "x_balanced.shape"
   ]
  },
  {
   "cell_type": "code",
   "execution_count": 78,
   "metadata": {
    "colab": {
     "base_uri": "https://localhost:8080/",
     "height": 225
    },
    "id": "_K24Wob35suA",
    "outputId": "89c9c4be-6fe9-4a5f-9e0c-d30f6f56aa26"
   },
   "outputs": [
    {
     "data": {
      "text/html": [
       "<div>\n",
       "<style scoped>\n",
       "    .dataframe tbody tr th:only-of-type {\n",
       "        vertical-align: middle;\n",
       "    }\n",
       "\n",
       "    .dataframe tbody tr th {\n",
       "        vertical-align: top;\n",
       "    }\n",
       "\n",
       "    .dataframe thead th {\n",
       "        text-align: right;\n",
       "    }\n",
       "</style>\n",
       "<table border=\"1\" class=\"dataframe\">\n",
       "  <thead>\n",
       "    <tr style=\"text-align: right;\">\n",
       "      <th></th>\n",
       "      <th>opened_by</th>\n",
       "      <th>resolved_by</th>\n",
       "      <th>caller_id</th>\n",
       "      <th>sys_created_by</th>\n",
       "      <th>subcategory</th>\n",
       "      <th>location</th>\n",
       "      <th>sys_updated_by</th>\n",
       "      <th>opened_hour</th>\n",
       "      <th>assigned_to</th>\n",
       "    </tr>\n",
       "  </thead>\n",
       "  <tbody>\n",
       "    <tr>\n",
       "      <th>0</th>\n",
       "      <td>390</td>\n",
       "      <td>206</td>\n",
       "      <td>2648</td>\n",
       "      <td>169</td>\n",
       "      <td>174</td>\n",
       "      <td>204</td>\n",
       "      <td>859</td>\n",
       "      <td>15</td>\n",
       "      <td>227</td>\n",
       "    </tr>\n",
       "    <tr>\n",
       "      <th>1</th>\n",
       "      <td>239</td>\n",
       "      <td>213</td>\n",
       "      <td>771</td>\n",
       "      <td>107</td>\n",
       "      <td>233</td>\n",
       "      <td>93</td>\n",
       "      <td>908</td>\n",
       "      <td>11</td>\n",
       "      <td>234</td>\n",
       "    </tr>\n",
       "    <tr>\n",
       "      <th>2</th>\n",
       "      <td>17</td>\n",
       "      <td>33</td>\n",
       "      <td>5242</td>\n",
       "      <td>10</td>\n",
       "      <td>164</td>\n",
       "      <td>108</td>\n",
       "      <td>137</td>\n",
       "      <td>15</td>\n",
       "      <td>34</td>\n",
       "    </tr>\n",
       "    <tr>\n",
       "      <th>3</th>\n",
       "      <td>397</td>\n",
       "      <td>15</td>\n",
       "      <td>459</td>\n",
       "      <td>171</td>\n",
       "      <td>125</td>\n",
       "      <td>143</td>\n",
       "      <td>908</td>\n",
       "      <td>14</td>\n",
       "      <td>17</td>\n",
       "    </tr>\n",
       "    <tr>\n",
       "      <th>4</th>\n",
       "      <td>131</td>\n",
       "      <td>66</td>\n",
       "      <td>4804</td>\n",
       "      <td>10</td>\n",
       "      <td>223</td>\n",
       "      <td>93</td>\n",
       "      <td>265</td>\n",
       "      <td>8</td>\n",
       "      <td>17</td>\n",
       "    </tr>\n",
       "  </tbody>\n",
       "</table>\n",
       "</div>"
      ],
      "text/plain": [
       "   opened_by  resolved_by  caller_id  sys_created_by  subcategory  location  \\\n",
       "0        390          206       2648             169          174       204   \n",
       "1        239          213        771             107          233        93   \n",
       "2         17           33       5242              10          164       108   \n",
       "3        397           15        459             171          125       143   \n",
       "4        131           66       4804              10          223        93   \n",
       "\n",
       "   sys_updated_by  opened_hour  assigned_to  \n",
       "0             859           15          227  \n",
       "1             908           11          234  \n",
       "2             137           15           34  \n",
       "3             908           14           17  \n",
       "4             265            8           17  "
      ]
     },
     "execution_count": 78,
     "metadata": {},
     "output_type": "execute_result"
    }
   ],
   "source": [
    "x_balanced.head()"
   ]
  },
  {
   "cell_type": "code",
   "execution_count": 79,
   "metadata": {},
   "outputs": [
    {
     "name": "stdout",
     "output_type": "stream",
     "text": [
      "<class 'pandas.core.frame.DataFrame'>\n",
      "RangeIndex: 163311 entries, 0 to 163310\n",
      "Data columns (total 9 columns):\n",
      " #   Column          Non-Null Count   Dtype\n",
      "---  ------          --------------   -----\n",
      " 0   opened_by       163311 non-null  int64\n",
      " 1   resolved_by     163311 non-null  int64\n",
      " 2   caller_id       163311 non-null  int64\n",
      " 3   sys_created_by  163311 non-null  int64\n",
      " 4   subcategory     163311 non-null  int64\n",
      " 5   location        163311 non-null  int64\n",
      " 6   sys_updated_by  163311 non-null  int64\n",
      " 7   opened_hour     163311 non-null  int64\n",
      " 8   assigned_to     163311 non-null  int64\n",
      "dtypes: int64(9)\n",
      "memory usage: 11.2 MB\n"
     ]
    }
   ],
   "source": [
    "x_balanced.info()"
   ]
  },
  {
   "cell_type": "code",
   "execution_count": null,
   "metadata": {},
   "outputs": [],
   "source": []
  },
  {
   "cell_type": "markdown",
   "metadata": {
    "id": "EKCZaWAyuvkj"
   },
   "source": [
    "## Model building\n"
   ]
  },
  {
   "cell_type": "markdown",
   "metadata": {
    "id": "uWhpd9tqQ0e5"
   },
   "source": [
    "###  Random-forest classifier"
   ]
  },
  {
   "cell_type": "code",
   "execution_count": 80,
   "metadata": {
    "id": "cjBLYhrw0pfL"
   },
   "outputs": [],
   "source": [
    "from sklearn.ensemble import RandomForestClassifier\n",
    "from sklearn.metrics import recall_score,accuracy_score, classification_report, confusion_matrix\n",
    "rf_clf = RandomForestClassifier(n_estimators=30, random_state=12)\n",
    "model_rf=rf_clf.fit(x_balanced, y_balanced)"
   ]
  },
  {
   "cell_type": "code",
   "execution_count": 81,
   "metadata": {},
   "outputs": [
    {
     "data": {
      "text/plain": [
       "RandomForestClassifier(n_estimators=30, random_state=12)"
      ]
     },
     "execution_count": 81,
     "metadata": {},
     "output_type": "execute_result"
    }
   ],
   "source": [
    "model_rf"
   ]
  },
  {
   "cell_type": "code",
   "execution_count": 82,
   "metadata": {
    "colab": {
     "base_uri": "https://localhost:8080/"
    },
    "id": "oOmoAabn3Ple",
    "outputId": "19fe5e46-903a-4eb7-fd89-60d17bc05c48"
   },
   "outputs": [
    {
     "name": "stdout",
     "output_type": "stream",
     "text": [
      "Test results: \n",
      "0.9123522927454563\n",
      "0.9842449344215698\n",
      "              precision    recall  f1-score   support\n",
      "\n",
      "           1       0.82      0.83      0.83       646\n",
      "           2       0.99      0.99      0.99     23320\n",
      "           3       0.83      0.91      0.87       661\n",
      "\n",
      "    accuracy                           0.98     24627\n",
      "   macro avg       0.88      0.91      0.90     24627\n",
      "weighted avg       0.98      0.98      0.98     24627\n",
      "\n",
      "\n",
      " Validation results\n",
      "0.8695519300231819\n",
      "0.9811424185944524\n",
      "              precision    recall  f1-score   support\n",
      "\n",
      "           1       0.78      0.73      0.76       229\n",
      "           2       0.99      0.99      0.99      8640\n",
      "           3       0.84      0.89      0.86       252\n",
      "\n",
      "    accuracy                           0.98      9121\n",
      "   macro avg       0.87      0.87      0.87      9121\n",
      "weighted avg       0.98      0.98      0.98      9121\n",
      "\n"
     ]
    }
   ],
   "source": [
    "y_pred_rf = model_rf.predict(X_test_new)\n",
    "val_pred_rf = model_rf.predict(val_features)\n",
    "\n",
    "# Finding accuracy, precision, recall and confusion matrix\n",
    "print('Test results: ')\n",
    "print(recall_score(y_test_new, y_pred_rf,average='macro'))\n",
    "print(accuracy_score(y_test_new,y_pred_rf))\n",
    "print(classification_report(y_test_new,y_pred_rf))\n",
    "\n",
    "print('\\n Validation results')\n",
    "print(recall_score(val_impact, val_pred_rf,average='macro'))\n",
    "print(accuracy_score(val_impact,val_pred_rf))\n",
    "print(classification_report(val_impact,val_pred_rf))"
   ]
  },
  {
   "cell_type": "code",
   "execution_count": 83,
   "metadata": {},
   "outputs": [
    {
     "data": {
      "text/html": [
       "<div>\n",
       "<style scoped>\n",
       "    .dataframe tbody tr th:only-of-type {\n",
       "        vertical-align: middle;\n",
       "    }\n",
       "\n",
       "    .dataframe tbody tr th {\n",
       "        vertical-align: top;\n",
       "    }\n",
       "\n",
       "    .dataframe thead th {\n",
       "        text-align: right;\n",
       "    }\n",
       "</style>\n",
       "<table border=\"1\" class=\"dataframe\">\n",
       "  <thead>\n",
       "    <tr style=\"text-align: right;\">\n",
       "      <th></th>\n",
       "      <th>opened_by</th>\n",
       "      <th>resolved_by</th>\n",
       "      <th>caller_id</th>\n",
       "      <th>sys_created_by</th>\n",
       "      <th>subcategory</th>\n",
       "      <th>location</th>\n",
       "      <th>sys_updated_by</th>\n",
       "      <th>opened_hour</th>\n",
       "      <th>assigned_to</th>\n",
       "    </tr>\n",
       "  </thead>\n",
       "  <tbody>\n",
       "    <tr>\n",
       "      <th>0</th>\n",
       "      <td>390</td>\n",
       "      <td>206</td>\n",
       "      <td>2648</td>\n",
       "      <td>169</td>\n",
       "      <td>174</td>\n",
       "      <td>204</td>\n",
       "      <td>859</td>\n",
       "      <td>15</td>\n",
       "      <td>227</td>\n",
       "    </tr>\n",
       "    <tr>\n",
       "      <th>1</th>\n",
       "      <td>239</td>\n",
       "      <td>213</td>\n",
       "      <td>771</td>\n",
       "      <td>107</td>\n",
       "      <td>233</td>\n",
       "      <td>93</td>\n",
       "      <td>908</td>\n",
       "      <td>11</td>\n",
       "      <td>234</td>\n",
       "    </tr>\n",
       "    <tr>\n",
       "      <th>2</th>\n",
       "      <td>17</td>\n",
       "      <td>33</td>\n",
       "      <td>5242</td>\n",
       "      <td>10</td>\n",
       "      <td>164</td>\n",
       "      <td>108</td>\n",
       "      <td>137</td>\n",
       "      <td>15</td>\n",
       "      <td>34</td>\n",
       "    </tr>\n",
       "    <tr>\n",
       "      <th>3</th>\n",
       "      <td>397</td>\n",
       "      <td>15</td>\n",
       "      <td>459</td>\n",
       "      <td>171</td>\n",
       "      <td>125</td>\n",
       "      <td>143</td>\n",
       "      <td>908</td>\n",
       "      <td>14</td>\n",
       "      <td>17</td>\n",
       "    </tr>\n",
       "    <tr>\n",
       "      <th>4</th>\n",
       "      <td>131</td>\n",
       "      <td>66</td>\n",
       "      <td>4804</td>\n",
       "      <td>10</td>\n",
       "      <td>223</td>\n",
       "      <td>93</td>\n",
       "      <td>265</td>\n",
       "      <td>8</td>\n",
       "      <td>17</td>\n",
       "    </tr>\n",
       "    <tr>\n",
       "      <th>...</th>\n",
       "      <td>...</td>\n",
       "      <td>...</td>\n",
       "      <td>...</td>\n",
       "      <td>...</td>\n",
       "      <td>...</td>\n",
       "      <td>...</td>\n",
       "      <td>...</td>\n",
       "      <td>...</td>\n",
       "      <td>...</td>\n",
       "    </tr>\n",
       "    <tr>\n",
       "      <th>85</th>\n",
       "      <td>242</td>\n",
       "      <td>32</td>\n",
       "      <td>2781</td>\n",
       "      <td>109</td>\n",
       "      <td>28</td>\n",
       "      <td>204</td>\n",
       "      <td>469</td>\n",
       "      <td>8</td>\n",
       "      <td>33</td>\n",
       "    </tr>\n",
       "    <tr>\n",
       "      <th>86</th>\n",
       "      <td>397</td>\n",
       "      <td>208</td>\n",
       "      <td>796</td>\n",
       "      <td>171</td>\n",
       "      <td>175</td>\n",
       "      <td>93</td>\n",
       "      <td>746</td>\n",
       "      <td>15</td>\n",
       "      <td>229</td>\n",
       "    </tr>\n",
       "    <tr>\n",
       "      <th>87</th>\n",
       "      <td>397</td>\n",
       "      <td>15</td>\n",
       "      <td>1248</td>\n",
       "      <td>171</td>\n",
       "      <td>174</td>\n",
       "      <td>204</td>\n",
       "      <td>746</td>\n",
       "      <td>15</td>\n",
       "      <td>17</td>\n",
       "    </tr>\n",
       "    <tr>\n",
       "      <th>88</th>\n",
       "      <td>17</td>\n",
       "      <td>182</td>\n",
       "      <td>5368</td>\n",
       "      <td>89</td>\n",
       "      <td>174</td>\n",
       "      <td>143</td>\n",
       "      <td>370</td>\n",
       "      <td>10</td>\n",
       "      <td>200</td>\n",
       "    </tr>\n",
       "    <tr>\n",
       "      <th>89</th>\n",
       "      <td>17</td>\n",
       "      <td>133</td>\n",
       "      <td>4304</td>\n",
       "      <td>10</td>\n",
       "      <td>125</td>\n",
       "      <td>93</td>\n",
       "      <td>429</td>\n",
       "      <td>19</td>\n",
       "      <td>17</td>\n",
       "    </tr>\n",
       "  </tbody>\n",
       "</table>\n",
       "<p>90 rows × 9 columns</p>\n",
       "</div>"
      ],
      "text/plain": [
       "    opened_by  resolved_by  caller_id  sys_created_by  subcategory  location  \\\n",
       "0         390          206       2648             169          174       204   \n",
       "1         239          213        771             107          233        93   \n",
       "2          17           33       5242              10          164       108   \n",
       "3         397           15        459             171          125       143   \n",
       "4         131           66       4804              10          223        93   \n",
       "..        ...          ...        ...             ...          ...       ...   \n",
       "85        242           32       2781             109           28       204   \n",
       "86        397          208        796             171          175        93   \n",
       "87        397           15       1248             171          174       204   \n",
       "88         17          182       5368              89          174       143   \n",
       "89         17          133       4304              10          125        93   \n",
       "\n",
       "    sys_updated_by  opened_hour  assigned_to  \n",
       "0              859           15          227  \n",
       "1              908           11          234  \n",
       "2              137           15           34  \n",
       "3              908           14           17  \n",
       "4              265            8           17  \n",
       "..             ...          ...          ...  \n",
       "85             469            8           33  \n",
       "86             746           15          229  \n",
       "87             746           15           17  \n",
       "88             370           10          200  \n",
       "89             429           19           17  \n",
       "\n",
       "[90 rows x 9 columns]"
      ]
     },
     "execution_count": 83,
     "metadata": {},
     "output_type": "execute_result"
    }
   ],
   "source": [
    "x_balanced.head(90)"
   ]
  },
  {
   "cell_type": "code",
   "execution_count": 84,
   "metadata": {},
   "outputs": [],
   "source": [
    "y_p1=pd.Series(y_pred_rf)\n"
   ]
  },
  {
   "cell_type": "code",
   "execution_count": 85,
   "metadata": {},
   "outputs": [],
   "source": [
    "y_p2=pd.DataFrame(y_p1,columns=['p1'])"
   ]
  },
  {
   "cell_type": "code",
   "execution_count": 86,
   "metadata": {},
   "outputs": [
    {
     "data": {
      "text/html": [
       "<div>\n",
       "<style scoped>\n",
       "    .dataframe tbody tr th:only-of-type {\n",
       "        vertical-align: middle;\n",
       "    }\n",
       "\n",
       "    .dataframe tbody tr th {\n",
       "        vertical-align: top;\n",
       "    }\n",
       "\n",
       "    .dataframe thead th {\n",
       "        text-align: right;\n",
       "    }\n",
       "</style>\n",
       "<table border=\"1\" class=\"dataframe\">\n",
       "  <thead>\n",
       "    <tr style=\"text-align: right;\">\n",
       "      <th></th>\n",
       "      <th>p1</th>\n",
       "    </tr>\n",
       "  </thead>\n",
       "  <tbody>\n",
       "    <tr>\n",
       "      <th>0</th>\n",
       "      <td>2</td>\n",
       "    </tr>\n",
       "    <tr>\n",
       "      <th>1</th>\n",
       "      <td>2</td>\n",
       "    </tr>\n",
       "    <tr>\n",
       "      <th>2</th>\n",
       "      <td>1</td>\n",
       "    </tr>\n",
       "    <tr>\n",
       "      <th>3</th>\n",
       "      <td>2</td>\n",
       "    </tr>\n",
       "    <tr>\n",
       "      <th>4</th>\n",
       "      <td>2</td>\n",
       "    </tr>\n",
       "    <tr>\n",
       "      <th>...</th>\n",
       "      <td>...</td>\n",
       "    </tr>\n",
       "    <tr>\n",
       "      <th>24622</th>\n",
       "      <td>2</td>\n",
       "    </tr>\n",
       "    <tr>\n",
       "      <th>24623</th>\n",
       "      <td>2</td>\n",
       "    </tr>\n",
       "    <tr>\n",
       "      <th>24624</th>\n",
       "      <td>2</td>\n",
       "    </tr>\n",
       "    <tr>\n",
       "      <th>24625</th>\n",
       "      <td>2</td>\n",
       "    </tr>\n",
       "    <tr>\n",
       "      <th>24626</th>\n",
       "      <td>2</td>\n",
       "    </tr>\n",
       "  </tbody>\n",
       "</table>\n",
       "<p>24627 rows × 1 columns</p>\n",
       "</div>"
      ],
      "text/plain": [
       "       p1\n",
       "0       2\n",
       "1       2\n",
       "2       1\n",
       "3       2\n",
       "4       2\n",
       "...    ..\n",
       "24622   2\n",
       "24623   2\n",
       "24624   2\n",
       "24625   2\n",
       "24626   2\n",
       "\n",
       "[24627 rows x 1 columns]"
      ]
     },
     "execution_count": 86,
     "metadata": {},
     "output_type": "execute_result"
    }
   ],
   "source": [
    "y_p2"
   ]
  },
  {
   "cell_type": "code",
   "execution_count": 87,
   "metadata": {},
   "outputs": [
    {
     "name": "stdout",
     "output_type": "stream",
     "text": [
      "       p1\n",
      "27      3\n",
      "45      3\n",
      "64      3\n",
      "89      3\n",
      "118     3\n",
      "...    ..\n",
      "24385   3\n",
      "24403   3\n",
      "24551   3\n",
      "24559   3\n",
      "24602   3\n",
      "\n",
      "[725 rows x 1 columns]\n"
     ]
    }
   ],
   "source": [
    "print(y_p2[y_p2['p1'] == 3])"
   ]
  },
  {
   "cell_type": "code",
   "execution_count": 88,
   "metadata": {
    "colab": {
     "base_uri": "https://localhost:8080/"
    },
    "id": "GN-19Dws8Dem",
    "outputId": "c9aaec78-f68f-4754-ac53-07dca980450c"
   },
   "outputs": [
    {
     "name": "stdout",
     "output_type": "stream",
     "text": [
      "0.9986773701710234\n",
      "              precision    recall  f1-score   support\n",
      "\n",
      "           1       1.00      1.00      1.00     54437\n",
      "           2       1.00      1.00      1.00     54437\n",
      "           3       1.00      1.00      1.00     54437\n",
      "\n",
      "    accuracy                           1.00    163311\n",
      "   macro avg       1.00      1.00      1.00    163311\n",
      "weighted avg       1.00      1.00      1.00    163311\n",
      "\n"
     ]
    }
   ],
   "source": [
    "# Finding accuracy, precision, recall and confusion matrix\n",
    "y_pred = model_rf.predict(x_balanced)\n",
    "\n",
    "print(accuracy_score(y_balanced,y_pred))\n",
    "print(classification_report(y_balanced,y_pred))"
   ]
  },
  {
   "cell_type": "code",
   "execution_count": 89,
   "metadata": {
    "colab": {
     "base_uri": "https://localhost:8080/"
    },
    "id": "HGiKY-sL-dgt",
    "outputId": "80485f99-05ad-48ee-ad56-b3dc27aae42d"
   },
   "outputs": [
    {
     "data": {
      "text/plain": [
       "array([[ 167,   60,    2],\n",
       "       [  42, 8558,   40],\n",
       "       [   4,   24,  224]], dtype=int64)"
      ]
     },
     "execution_count": 89,
     "metadata": {},
     "output_type": "execute_result"
    }
   ],
   "source": [
    "confusion_matrix(val_impact,val_pred_rf)"
   ]
  },
  {
   "cell_type": "code",
   "execution_count": 90,
   "metadata": {
    "colab": {
     "base_uri": "https://localhost:8080/"
    },
    "id": "n-BNtcDWYWqb",
    "outputId": "9da076d6-18a1-4166-8265-954a3608e7a9"
   },
   "outputs": [
    {
     "data": {
      "text/plain": [
       "array([[  539,   103,     4],\n",
       "       [  105, 23097,   118],\n",
       "       [   11,    47,   603]], dtype=int64)"
      ]
     },
     "execution_count": 90,
     "metadata": {},
     "output_type": "execute_result"
    }
   ],
   "source": [
    " confusion_matrix(y_test_new,y_pred_rf)"
   ]
  },
  {
   "cell_type": "code",
   "execution_count": 91,
   "metadata": {
    "id": "L0wgVniLDWQ-"
   },
   "outputs": [],
   "source": [
    "from sklearn.metrics import f1_score\n",
    "acc_rf=round(accuracy_score(val_impact,val_pred_rf)*100.0,2)\n",
    "train_accrf=round(accuracy_score(y_balanced,y_pred)*100.0,2)\n",
    "f1_rf=round(f1_score(y_balanced, y_pred, average='macro'),4)"
   ]
  },
  {
   "cell_type": "markdown",
   "metadata": {
    "id": "vP77EtTmSGYM"
   },
   "source": [
    "###  Decision-tree classifier"
   ]
  },
  {
   "cell_type": "code",
   "execution_count": 92,
   "metadata": {
    "id": "iTCh_RYq_GuL"
   },
   "outputs": [],
   "source": [
    "# Training the model\n",
    "from sklearn.tree import DecisionTreeClassifier\n",
    "dtree_clf=DecisionTreeClassifier()\n",
    "model_dtree=dtree_clf.fit(x_balanced,y_balanced)"
   ]
  },
  {
   "cell_type": "code",
   "execution_count": 93,
   "metadata": {
    "colab": {
     "base_uri": "https://localhost:8080/"
    },
    "id": "ZEdRy0_F_GmS",
    "outputId": "dedbc78b-ee95-48c7-b8c8-a89e01c698ff"
   },
   "outputs": [
    {
     "name": "stdout",
     "output_type": "stream",
     "text": [
      "Test results: \n",
      "0.8831628745884822\n",
      "0.9676777520607464\n",
      "              precision    recall  f1-score   support\n",
      "\n",
      "           1       0.59      0.79      0.68       646\n",
      "           2       0.99      0.97      0.98     23320\n",
      "           3       0.70      0.88      0.78       661\n",
      "\n",
      "    accuracy                           0.97     24627\n",
      "   macro avg       0.76      0.88      0.81     24627\n",
      "weighted avg       0.97      0.97      0.97     24627\n",
      "\n",
      "\n",
      " Validation results\n",
      "0.8701248093851807\n",
      "0.9684245148558273\n",
      "              precision    recall  f1-score   support\n",
      "\n",
      "           1       0.60      0.77      0.67       229\n",
      "           2       0.99      0.98      0.98      8640\n",
      "           3       0.71      0.87      0.78       252\n",
      "\n",
      "    accuracy                           0.97      9121\n",
      "   macro avg       0.77      0.87      0.81      9121\n",
      "weighted avg       0.97      0.97      0.97      9121\n",
      "\n"
     ]
    }
   ],
   "source": [
    "y_pred_dtree = model_dtree.predict(X_test_new)\n",
    "val_pred_dtree = model_dtree.predict(val_features)\n",
    "\n",
    "# Finding accuracy, precision, recall and confusion matrix\n",
    "print('Test results: ')\n",
    "print(recall_score(y_test_new, y_pred_dtree,average='macro'))\n",
    "print(accuracy_score(y_test_new,y_pred_dtree))\n",
    "print(classification_report(y_test_new,y_pred_dtree))\n",
    "\n",
    "print('\\n Validation results')\n",
    "print(recall_score(val_impact, val_pred_dtree,average='macro'))\n",
    "print(accuracy_score(val_impact,val_pred_dtree))\n",
    "print(classification_report(val_impact,val_pred_dtree))"
   ]
  },
  {
   "cell_type": "code",
   "execution_count": 94,
   "metadata": {
    "colab": {
     "base_uri": "https://localhost:8080/"
    },
    "id": "0CvUfsX-_41w",
    "outputId": "6fa66224-a253-407e-cf27-2b8db0161bd4"
   },
   "outputs": [
    {
     "data": {
      "text/plain": [
       "array([[ 176,   50,    3],\n",
       "       [ 115, 8439,   86],\n",
       "       [   4,   30,  218]], dtype=int64)"
      ]
     },
     "execution_count": 94,
     "metadata": {},
     "output_type": "execute_result"
    }
   ],
   "source": [
    "confusion_matrix(val_impact,val_pred_dtree)"
   ]
  },
  {
   "cell_type": "code",
   "execution_count": 95,
   "metadata": {
    "colab": {
     "base_uri": "https://localhost:8080/"
    },
    "id": "vJfsUrg3bjUh",
    "outputId": "c831bbe2-12af-4010-a94b-0795709122ae"
   },
   "outputs": [
    {
     "name": "stdout",
     "output_type": "stream",
     "text": [
      "0.9986896167435139\n",
      "              precision    recall  f1-score   support\n",
      "\n",
      "           1       1.00      1.00      1.00     54437\n",
      "           2       1.00      1.00      1.00     54437\n",
      "           3       1.00      1.00      1.00     54437\n",
      "\n",
      "    accuracy                           1.00    163311\n",
      "   macro avg       1.00      1.00      1.00    163311\n",
      "weighted avg       1.00      1.00      1.00    163311\n",
      "\n"
     ]
    }
   ],
   "source": [
    "y_pred_dt = model_dtree.predict(x_balanced)\n",
    "\n",
    "# Finding accuracy, precision, recall and confusion matrix\n",
    "print(accuracy_score(y_balanced,y_pred_dt))\n",
    "print(classification_report(y_balanced,y_pred_dt))"
   ]
  },
  {
   "cell_type": "code",
   "execution_count": 96,
   "metadata": {
    "id": "WWk8wKQpCyQ9"
   },
   "outputs": [],
   "source": [
    "acc_dt=round(accuracy_score(val_impact,val_pred_dtree)*100.0,2)\n",
    "train_accdt=round(accuracy_score(y_balanced,y_pred_dt)*100.0,2)\n",
    "f1_dt=round(f1_score(y_balanced, y_pred_dt, average='macro'),4)"
   ]
  },
  {
   "cell_type": "markdown",
   "metadata": {
    "id": "Xo9r7jTLSNBn"
   },
   "source": [
    "### Logistic regression"
   ]
  },
  {
   "cell_type": "code",
   "execution_count": 97,
   "metadata": {
    "colab": {
     "base_uri": "https://localhost:8080/"
    },
    "id": "HCGFDRLL0pca",
    "outputId": "217695b5-26ce-4e85-a512-97c403af5bf7"
   },
   "outputs": [
    {
     "name": "stderr",
     "output_type": "stream",
     "text": [
      "C:\\Users\\Mahesh\\anaconda3\\lib\\site-packages\\sklearn\\linear_model\\_logistic.py:763: ConvergenceWarning: lbfgs failed to converge (status=1):\n",
      "STOP: TOTAL NO. of ITERATIONS REACHED LIMIT.\n",
      "\n",
      "Increase the number of iterations (max_iter) or scale the data as shown in:\n",
      "    https://scikit-learn.org/stable/modules/preprocessing.html\n",
      "Please also refer to the documentation for alternative solver options:\n",
      "    https://scikit-learn.org/stable/modules/linear_model.html#logistic-regression\n",
      "  n_iter_i = _check_optimize_result(\n"
     ]
    }
   ],
   "source": [
    "# Training the model\n",
    "from sklearn.linear_model import LogisticRegression\n",
    "log_reg=LogisticRegression()\n",
    "model_logreg=log_reg.fit(x_balanced,y_balanced)"
   ]
  },
  {
   "cell_type": "code",
   "execution_count": 98,
   "metadata": {
    "colab": {
     "base_uri": "https://localhost:8080/"
    },
    "id": "TDci_RfVEqP_",
    "outputId": "b910437c-6f3f-4d1a-b2e5-f836b257f0ef"
   },
   "outputs": [
    {
     "name": "stdout",
     "output_type": "stream",
     "text": [
      "Train results: \n",
      "0.4496880185658039\n",
      "0.44968801856580387\n",
      "              precision    recall  f1-score   support\n",
      "\n",
      "           1       0.42      0.41      0.41     54437\n",
      "           2       0.46      0.42      0.44     54437\n",
      "           3       0.47      0.52      0.49     54437\n",
      "\n",
      "    accuracy                           0.45    163311\n",
      "   macro avg       0.45      0.45      0.45    163311\n",
      "weighted avg       0.45      0.45      0.45    163311\n",
      "\n"
     ]
    }
   ],
   "source": [
    "train_pred_logreg = model_logreg.predict(x_balanced)\n",
    "\n",
    "print('Train results: ')\n",
    "print(recall_score(y_balanced, train_pred_logreg,average='macro'))\n",
    "print(accuracy_score(y_balanced,train_pred_logreg))\n",
    "print(classification_report(y_balanced,train_pred_logreg))"
   ]
  },
  {
   "cell_type": "code",
   "execution_count": 99,
   "metadata": {
    "colab": {
     "base_uri": "https://localhost:8080/"
    },
    "id": "4jzw9f532jac",
    "outputId": "bcdbaae4-b089-4eca-b3c6-adf3c2d058d8"
   },
   "outputs": [
    {
     "name": "stdout",
     "output_type": "stream",
     "text": [
      "Test results: \n",
      "0.4424483212184375\n",
      "0.42169163925772524\n",
      "              precision    recall  f1-score   support\n",
      "\n",
      "           1       0.04      0.39      0.07       646\n",
      "           2       0.97      0.42      0.59     23320\n",
      "           3       0.04      0.52      0.08       661\n",
      "\n",
      "    accuracy                           0.42     24627\n",
      "   macro avg       0.35      0.44      0.25     24627\n",
      "weighted avg       0.92      0.42      0.56     24627\n",
      "\n",
      "\n",
      " Validation results\n",
      "0.42735929160601654\n",
      "0.4190330007674597\n",
      "              precision    recall  f1-score   support\n",
      "\n",
      "           1       0.03      0.34      0.06       229\n",
      "           2       0.97      0.42      0.58      8640\n",
      "           3       0.05      0.53      0.08       252\n",
      "\n",
      "    accuracy                           0.42      9121\n",
      "   macro avg       0.35      0.43      0.24      9121\n",
      "weighted avg       0.92      0.42      0.56      9121\n",
      "\n"
     ]
    }
   ],
   "source": [
    "# Finding accuracy, precision, recall and confusion matrix\n",
    "y_pred_logreg = model_logreg.predict(X_test_new)\n",
    "val_pred_logreg = model_logreg.predict(val_features)\n",
    "\n",
    "print('Test results: ')\n",
    "print(recall_score(y_test_new, y_pred_logreg,average='macro'))\n",
    "print(accuracy_score(y_test_new,y_pred_logreg))\n",
    "print(classification_report(y_test_new,y_pred_logreg))\n",
    "\n",
    "print('\\n Validation results')\n",
    "print(recall_score(val_impact, val_pred_logreg,average='macro'))\n",
    "print(accuracy_score(val_impact,val_pred_logreg))\n",
    "print(classification_report(val_impact,val_pred_logreg))"
   ]
  },
  {
   "cell_type": "code",
   "execution_count": 100,
   "metadata": {
    "colab": {
     "base_uri": "https://localhost:8080/"
    },
    "id": "M0Hn9joK8cfE",
    "outputId": "0f8c5db7-2ef2-46a4-ee42-d86332a5e1a9"
   },
   "outputs": [
    {
     "data": {
      "text/plain": [
       "array([[  77,   83,   69],\n",
       "       [2336, 3612, 2692],\n",
       "       [  73,   46,  133]], dtype=int64)"
      ]
     },
     "execution_count": 100,
     "metadata": {},
     "output_type": "execute_result"
    }
   ],
   "source": [
    "confusion_matrix(val_impact,val_pred_logreg)"
   ]
  },
  {
   "cell_type": "code",
   "execution_count": 101,
   "metadata": {
    "id": "hEVzVwnZEbe8"
   },
   "outputs": [],
   "source": [
    "acc_logreg=round(accuracy_score(val_impact,val_pred_logreg)*100.0,2)\n",
    "train_acclogreg=round(accuracy_score(y_balanced,train_pred_logreg)*100.0,2)\n",
    "f1_logreg=round(f1_score(y_balanced, train_pred_logreg, average='macro'),4)"
   ]
  },
  {
   "cell_type": "markdown",
   "metadata": {
    "id": "TTXliklLSiV7"
   },
   "source": [
    "###  Multinomial Naive Bayes"
   ]
  },
  {
   "cell_type": "code",
   "execution_count": 102,
   "metadata": {
    "id": "KLyeR3R3Agtv"
   },
   "outputs": [],
   "source": [
    "# Training the model\n",
    "from sklearn.naive_bayes import MultinomialNB\n",
    "multi_nb=MultinomialNB()\n",
    "model_mlnb=multi_nb.fit(x_balanced,y_balanced)"
   ]
  },
  {
   "cell_type": "code",
   "execution_count": 103,
   "metadata": {
    "colab": {
     "base_uri": "https://localhost:8080/"
    },
    "id": "fKYabvvd8Nme",
    "outputId": "34d22682-5c4d-4bf2-a867-43733ba4472d"
   },
   "outputs": [
    {
     "name": "stdout",
     "output_type": "stream",
     "text": [
      "0.4106826851834843\n",
      "              precision    recall  f1-score   support\n",
      "\n",
      "           1       0.39      0.38      0.38     54437\n",
      "           2       0.44      0.32      0.37     54437\n",
      "           3       0.41      0.53      0.46     54437\n",
      "\n",
      "    accuracy                           0.41    163311\n",
      "   macro avg       0.41      0.41      0.41    163311\n",
      "weighted avg       0.41      0.41      0.41    163311\n",
      "\n"
     ]
    }
   ],
   "source": [
    "y_predmlnb = model_mlnb.predict(x_balanced)\n",
    "\n",
    "print(accuracy_score(y_balanced,y_predmlnb))\n",
    "print(classification_report(y_balanced,y_predmlnb))"
   ]
  },
  {
   "cell_type": "code",
   "execution_count": 104,
   "metadata": {
    "colab": {
     "base_uri": "https://localhost:8080/"
    },
    "id": "UkdjVsjsAklw",
    "outputId": "a12f38f5-1ac8-40c7-84e9-b78f1e61f475"
   },
   "outputs": [
    {
     "name": "stdout",
     "output_type": "stream",
     "text": [
      "Test results: \n",
      "0.40260248256889236\n",
      "0.32119218743655337\n",
      "              precision    recall  f1-score   support\n",
      "\n",
      "           1       0.03      0.38      0.06       646\n",
      "           2       0.97      0.31      0.47     23320\n",
      "           3       0.04      0.51      0.07       661\n",
      "\n",
      "    accuracy                           0.32     24627\n",
      "   macro avg       0.34      0.40      0.20     24627\n",
      "weighted avg       0.92      0.32      0.45     24627\n",
      "\n",
      "\n",
      " Validation results\n",
      "0.3694109183783492\n",
      "0.3241969082337463\n",
      "              precision    recall  f1-score   support\n",
      "\n",
      "           1       0.02      0.29      0.04       229\n",
      "           2       0.96      0.32      0.48      8640\n",
      "           3       0.04      0.50      0.07       252\n",
      "\n",
      "    accuracy                           0.32      9121\n",
      "   macro avg       0.34      0.37      0.20      9121\n",
      "weighted avg       0.92      0.32      0.46      9121\n",
      "\n"
     ]
    }
   ],
   "source": [
    "y_pred_multi_nb = model_mlnb.predict(X_test_new)\n",
    "val_pred_multi_nb = model_mlnb.predict(val_features)\n",
    "\n",
    "# Finding accuracy, precision, recall and confusion matrix\n",
    "print('Test results: ')\n",
    "print(recall_score(y_test_new, y_pred_multi_nb,average='macro'))\n",
    "print(accuracy_score(y_test_new,y_pred_multi_nb))\n",
    "print(classification_report(y_test_new,y_pred_multi_nb))\n",
    "\n",
    "print('\\n Validation results')\n",
    "print(recall_score(val_impact, val_pred_multi_nb,average='macro'))\n",
    "print(accuracy_score(val_impact,val_pred_multi_nb))\n",
    "print(classification_report(val_impact,val_pred_multi_nb))"
   ]
  },
  {
   "cell_type": "code",
   "execution_count": 105,
   "metadata": {
    "colab": {
     "base_uri": "https://localhost:8080/"
    },
    "id": "RgSjzJZ-Srqm",
    "outputId": "1898e375-b864-46b9-e498-ae742cc82952"
   },
   "outputs": [
    {
     "data": {
      "text/plain": [
       "array([[  66,   66,   97],\n",
       "       [2576, 2765, 3299],\n",
       "       [  90,   36,  126]], dtype=int64)"
      ]
     },
     "execution_count": 105,
     "metadata": {},
     "output_type": "execute_result"
    }
   ],
   "source": [
    "confusion_matrix(val_impact,val_pred_multi_nb)"
   ]
  },
  {
   "cell_type": "code",
   "execution_count": 106,
   "metadata": {
    "id": "F7zyuSmtEtif"
   },
   "outputs": [],
   "source": [
    "acc_multinb=round(accuracy_score(val_impact,val_pred_multi_nb)*100.0,2)\n",
    "train_accmnb=round(accuracy_score(y_balanced,y_predmlnb)*100.0,2)\n",
    "f1_mnb=round(f1_score(y_balanced, y_predmlnb, average='macro'),4)"
   ]
  },
  {
   "cell_type": "markdown",
   "metadata": {
    "id": "RohvCUkNTPIA"
   },
   "source": [
    "###  Gaussian Naive Bayes"
   ]
  },
  {
   "cell_type": "code",
   "execution_count": 107,
   "metadata": {
    "id": "WE-99k9YAv25"
   },
   "outputs": [],
   "source": [
    "# Training the model\n",
    "from sklearn.naive_bayes import GaussianNB\n",
    "gauss_nb=GaussianNB()\n",
    "model_gsnb=gauss_nb.fit(x_balanced,y_balanced)"
   ]
  },
  {
   "cell_type": "code",
   "execution_count": 108,
   "metadata": {
    "colab": {
     "base_uri": "https://localhost:8080/"
    },
    "id": "WOMo0XI88nLl",
    "outputId": "e9fadef2-e22c-4d4d-c7f4-b6b6db9364e2"
   },
   "outputs": [
    {
     "name": "stdout",
     "output_type": "stream",
     "text": [
      "0.4966964870706811\n",
      "              precision    recall  f1-score   support\n",
      "\n",
      "           1       0.53      0.45      0.48     54437\n",
      "           2       0.45      0.61      0.52     54437\n",
      "           3       0.54      0.44      0.48     54437\n",
      "\n",
      "    accuracy                           0.50    163311\n",
      "   macro avg       0.51      0.50      0.49    163311\n",
      "weighted avg       0.51      0.50      0.49    163311\n",
      "\n"
     ]
    }
   ],
   "source": [
    "y_predgsnb = model_gsnb.predict(x_balanced)\n",
    "\n",
    "print(accuracy_score(y_balanced,y_predgsnb))\n",
    "print(classification_report(y_balanced,y_predgsnb))"
   ]
  },
  {
   "cell_type": "code",
   "execution_count": 109,
   "metadata": {
    "colab": {
     "base_uri": "https://localhost:8080/"
    },
    "id": "4jPRwSgaMCRi",
    "outputId": "c0d594a1-eac3-4219-dc0e-368171ee6ed0"
   },
   "outputs": [
    {
     "name": "stdout",
     "output_type": "stream",
     "text": [
      "Test results: \n",
      "0.47059203279385864\n",
      "0.592114346042961\n",
      "              precision    recall  f1-score   support\n",
      "\n",
      "           1       0.06      0.46      0.11       646\n",
      "           2       0.97      0.60      0.74     23320\n",
      "           3       0.04      0.35      0.08       661\n",
      "\n",
      "    accuracy                           0.59     24627\n",
      "   macro avg       0.36      0.47      0.31     24627\n",
      "weighted avg       0.92      0.59      0.71     24627\n",
      "\n",
      "\n",
      " Validation results\n",
      "0.46431418617099113\n",
      "0.5931367174651903\n",
      "              precision    recall  f1-score   support\n",
      "\n",
      "           1       0.05      0.42      0.10       229\n",
      "           2       0.96      0.60      0.74      8640\n",
      "           3       0.05      0.37      0.08       252\n",
      "\n",
      "    accuracy                           0.59      9121\n",
      "   macro avg       0.36      0.46      0.31      9121\n",
      "weighted avg       0.92      0.59      0.71      9121\n",
      "\n"
     ]
    }
   ],
   "source": [
    "y_pred_gauss_nb = model_gsnb.predict(X_test_new)\n",
    "val_pred_gauss_nb = model_gsnb.predict(val_features)\n",
    "\n",
    "# Finding accuracy, precision, recall and confusion matrix\n",
    "print('Test results: ')\n",
    "print(recall_score(y_test_new, y_pred_gauss_nb,average='macro'))\n",
    "print(accuracy_score(y_test_new,y_pred_gauss_nb))\n",
    "print(classification_report(y_test_new,y_pred_gauss_nb))\n",
    "\n",
    "print('\\n Validation results')\n",
    "print(recall_score(val_impact, val_pred_gauss_nb,average='macro'))\n",
    "print(accuracy_score(val_impact,val_pred_gauss_nb))\n",
    "print(classification_report(val_impact,val_pred_gauss_nb))"
   ]
  },
  {
   "cell_type": "code",
   "execution_count": 110,
   "metadata": {
    "colab": {
     "base_uri": "https://localhost:8080/"
    },
    "id": "2xNENqVMTF-h",
    "outputId": "e080fa06-cfe2-4c39-f615-eae34f83f16f"
   },
   "outputs": [
    {
     "data": {
      "text/plain": [
       "array([[  97,   94,   38],\n",
       "       [1617, 5221, 1802],\n",
       "       [  56,  104,   92]], dtype=int64)"
      ]
     },
     "execution_count": 110,
     "metadata": {},
     "output_type": "execute_result"
    }
   ],
   "source": [
    "confusion_matrix(val_impact,val_pred_gauss_nb)"
   ]
  },
  {
   "cell_type": "code",
   "execution_count": 111,
   "metadata": {
    "id": "cfAYwboyFI0n"
   },
   "outputs": [],
   "source": [
    "acc_gaussnb=round(accuracy_score(val_impact,val_pred_gauss_nb)*100.0,2)\n",
    "train_accgnb=round(accuracy_score(y_balanced,y_predgsnb)*100.0,2)\n",
    "f1_gnb=round(f1_score(y_balanced, y_predgsnb, average='macro'),4)"
   ]
  },
  {
   "cell_type": "markdown",
   "metadata": {
    "id": "e4BA5CF7TYBK"
   },
   "source": [
    "### XGBoost classifier"
   ]
  },
  {
   "cell_type": "code",
   "execution_count": 112,
   "metadata": {
    "id": "D9R7_YrjKlt1"
   },
   "outputs": [],
   "source": [
    "#from xgboost import XGBClassifier\n",
    "#xgb = XGBClassifier()\n",
    "#model_xgb=xgb.fit(x_balanced,y_balanced)\n"
   ]
  },
  {
   "cell_type": "code",
   "execution_count": 113,
   "metadata": {
    "colab": {
     "base_uri": "https://localhost:8080/"
    },
    "id": "7vfi1mkGK6QU",
    "outputId": "c2eefdb5-6230-4c97-80ea-a0eda9a98aa9"
   },
   "outputs": [],
   "source": [
    "#y_predxgb = model_xgb.predict(x_balanced)\n",
    "\n",
    "#print(accuracy_score(y_balanced,y_predxgb))\n",
    "#print(classification_report(y_balanced,y_predxgb))"
   ]
  },
  {
   "cell_type": "code",
   "execution_count": 114,
   "metadata": {
    "colab": {
     "base_uri": "https://localhost:8080/"
    },
    "id": "uPWHPatjK6Na",
    "outputId": "8d2764be-1f8a-47bf-9479-0e8eb3b3541d"
   },
   "outputs": [],
   "source": [
    "#y_pred_xgb= model_xgb.predict(X_test_new)\n",
    "#val_pred_xgb = model_xgb.predict(val_features)\n",
    "\n",
    "# Finding accuracy, precision, recall and confusion matrix\n",
    "#print('Test results: ')\n",
    "#print(recall_score(y_test_new, y_pred_xgb,average='macro'))\n",
    "#print(accuracy_score(y_test_new,y_pred_xgb))\n",
    "#print(classification_report(y_test_new,y_pred_xgb))\n",
    "\n",
    "#print('\\n Validation results')\n",
    "#print(recall_score(val_impact, val_pred_xgb,average='macro'))\n",
    "#print(accuracy_score(val_impact,val_pred_xgb))\n",
    "#print(classification_report(val_impact,val_pred_xgb))"
   ]
  },
  {
   "cell_type": "code",
   "execution_count": 115,
   "metadata": {
    "colab": {
     "base_uri": "https://localhost:8080/"
    },
    "id": "d5RpVE3fTfrX",
    "outputId": "5fb81d19-8037-4b2f-affe-d5472f116171"
   },
   "outputs": [],
   "source": [
    "#confusion_matrix(val_impact,val_pred_xgb)"
   ]
  },
  {
   "cell_type": "code",
   "execution_count": 116,
   "metadata": {
    "id": "qeboreDuFvlX"
   },
   "outputs": [],
   "source": [
    "#acc_xgb=round(accuracy_score(val_impact,val_pred_xgb)*100.0,2)\n",
    "#train_accxgb=round(accuracy_score(y_balanced,y_predxgb)*100.0,2)\n",
    "#f1_xgb=round(f1_score(y_balanced, y_predxgb, average='macro'),4)"
   ]
  },
  {
   "cell_type": "markdown",
   "metadata": {
    "id": "4FXajx17ZTCh"
   },
   "source": [
    "### Gradient boosting Classifier"
   ]
  },
  {
   "cell_type": "code",
   "execution_count": 117,
   "metadata": {
    "id": "mAdu8kc7Zf-M"
   },
   "outputs": [],
   "source": [
    "from sklearn.ensemble import GradientBoostingClassifier\n",
    "gb=GradientBoostingClassifier()\n",
    "gb_clf=gb.fit(x_balanced,y_balanced)"
   ]
  },
  {
   "cell_type": "code",
   "execution_count": 118,
   "metadata": {
    "colab": {
     "base_uri": "https://localhost:8080/"
    },
    "id": "E2Fx0LwbZf7V",
    "outputId": "c65d7e25-2df6-4227-8b01-75e70e88d1ae"
   },
   "outputs": [
    {
     "name": "stdout",
     "output_type": "stream",
     "text": [
      "0.8321117377274035\n",
      "              precision    recall  f1-score   support\n",
      "\n",
      "           1       0.80      0.82      0.81     54437\n",
      "           2       0.84      0.81      0.82     54437\n",
      "           3       0.86      0.87      0.87     54437\n",
      "\n",
      "    accuracy                           0.83    163311\n",
      "   macro avg       0.83      0.83      0.83    163311\n",
      "weighted avg       0.83      0.83      0.83    163311\n",
      "\n"
     ]
    }
   ],
   "source": [
    "y_predgb = gb_clf.predict(x_balanced)\n",
    "\n",
    "print(accuracy_score(y_balanced,y_predgb))\n",
    "print(classification_report(y_balanced,y_predgb))"
   ]
  },
  {
   "cell_type": "code",
   "execution_count": 119,
   "metadata": {
    "colab": {
     "base_uri": "https://localhost:8080/"
    },
    "id": "e8Cm9-LMaB80",
    "outputId": "4297e041-9d2b-41f4-eb1a-0777c6acffd2"
   },
   "outputs": [
    {
     "name": "stdout",
     "output_type": "stream",
     "text": [
      "Test results: \n",
      "0.770661461857253\n",
      "0.8039956145693751\n",
      "              precision    recall  f1-score   support\n",
      "\n",
      "           1       0.13      0.66      0.21       646\n",
      "           2       0.99      0.81      0.89     23320\n",
      "           3       0.25      0.84      0.38       661\n",
      "\n",
      "    accuracy                           0.80     24627\n",
      "   macro avg       0.45      0.77      0.50     24627\n",
      "weighted avg       0.95      0.80      0.86     24627\n",
      "\n",
      "\n",
      " Validation results\n",
      "0.7508243368914767\n",
      "0.807586887402697\n",
      "              precision    recall  f1-score   support\n",
      "\n",
      "           1       0.12      0.61      0.20       229\n",
      "           2       0.99      0.81      0.89      8640\n",
      "           3       0.25      0.83      0.38       252\n",
      "\n",
      "    accuracy                           0.81      9121\n",
      "   macro avg       0.45      0.75      0.49      9121\n",
      "weighted avg       0.95      0.81      0.86      9121\n",
      "\n"
     ]
    }
   ],
   "source": [
    "y_pred_gb= gb_clf.predict(X_test_new.values)\n",
    "val_pred_gb = gb_clf.predict(val_features.values)\n",
    "\n",
    "# Finding accuracy, precision, recall and confusion matrix\n",
    "print('Test results: ')\n",
    "print(recall_score(y_test_new, y_pred_gb,average='macro'))\n",
    "print(accuracy_score(y_test_new,y_pred_gb))\n",
    "print(classification_report(y_test_new,y_pred_gb))\n",
    "\n",
    "print('\\n Validation results')\n",
    "print(recall_score(val_impact, val_pred_gb,average='macro'))\n",
    "print(accuracy_score(val_impact,val_pred_gb))\n",
    "print(classification_report(val_impact,val_pred_gb))"
   ]
  },
  {
   "cell_type": "code",
   "execution_count": 120,
   "metadata": {
    "colab": {
     "base_uri": "https://localhost:8080/"
    },
    "id": "AODSS_QXB0XW",
    "outputId": "7f47a8ae-c62c-42e1-c41e-1bf9bfaf46e1"
   },
   "outputs": [
    {
     "data": {
      "text/plain": [
       "array([[ 139,   72,   18],\n",
       "       [1005, 7017,  618],\n",
       "       [  24,   18,  210]], dtype=int64)"
      ]
     },
     "execution_count": 120,
     "metadata": {},
     "output_type": "execute_result"
    }
   ],
   "source": [
    "confusion_matrix(val_impact,val_pred_gb)"
   ]
  },
  {
   "cell_type": "code",
   "execution_count": 121,
   "metadata": {
    "id": "7N-eRIFtGCYl"
   },
   "outputs": [],
   "source": [
    "acc_gb=round(accuracy_score(val_impact,val_pred_gb)*100.0,2)\n",
    "train_accgb=round(accuracy_score(y_balanced,y_predgb)*100.0,2)\n",
    "f1_gb=round(f1_score(y_balanced, y_predgb, average='macro'),4)"
   ]
  },
  {
   "cell_type": "markdown",
   "metadata": {},
   "source": [
    "## Accuracy Table"
   ]
  },
  {
   "cell_type": "code",
   "execution_count": 123,
   "metadata": {
    "colab": {
     "base_uri": "https://localhost:8080/",
     "height": 299
    },
    "id": "qFMMK_ZziyW_",
    "outputId": "d6d992f4-8b41-431d-8bfd-962170bd7055"
   },
   "outputs": [
    {
     "data": {
      "text/html": [
       "<div>\n",
       "<style scoped>\n",
       "    .dataframe tbody tr th:only-of-type {\n",
       "        vertical-align: middle;\n",
       "    }\n",
       "\n",
       "    .dataframe tbody tr th {\n",
       "        vertical-align: top;\n",
       "    }\n",
       "\n",
       "    .dataframe thead th {\n",
       "        text-align: right;\n",
       "    }\n",
       "</style>\n",
       "<table border=\"1\" class=\"dataframe\">\n",
       "  <thead>\n",
       "    <tr style=\"text-align: right;\">\n",
       "      <th></th>\n",
       "      <th>MODEL</th>\n",
       "      <th>Test Accuracy</th>\n",
       "      <th>Train Accuracy</th>\n",
       "      <th>f1 score</th>\n",
       "    </tr>\n",
       "  </thead>\n",
       "  <tbody>\n",
       "    <tr>\n",
       "      <th>0</th>\n",
       "      <td>Random forest</td>\n",
       "      <td>98.11</td>\n",
       "      <td>99.87</td>\n",
       "      <td>0.9987</td>\n",
       "    </tr>\n",
       "    <tr>\n",
       "      <th>1</th>\n",
       "      <td>Decision tree</td>\n",
       "      <td>96.84</td>\n",
       "      <td>99.87</td>\n",
       "      <td>0.9987</td>\n",
       "    </tr>\n",
       "    <tr>\n",
       "      <th>2</th>\n",
       "      <td>Logistic regression</td>\n",
       "      <td>41.90</td>\n",
       "      <td>44.97</td>\n",
       "      <td>0.4484</td>\n",
       "    </tr>\n",
       "    <tr>\n",
       "      <th>3</th>\n",
       "      <td>Multinomial NB</td>\n",
       "      <td>32.42</td>\n",
       "      <td>41.07</td>\n",
       "      <td>0.4062</td>\n",
       "    </tr>\n",
       "    <tr>\n",
       "      <th>4</th>\n",
       "      <td>Gaussian NB</td>\n",
       "      <td>59.31</td>\n",
       "      <td>49.67</td>\n",
       "      <td>0.4947</td>\n",
       "    </tr>\n",
       "    <tr>\n",
       "      <th>5</th>\n",
       "      <td>Gradient boosting</td>\n",
       "      <td>80.76</td>\n",
       "      <td>83.21</td>\n",
       "      <td>0.8321</td>\n",
       "    </tr>\n",
       "  </tbody>\n",
       "</table>\n",
       "</div>"
      ],
      "text/plain": [
       "                 MODEL  Test Accuracy  Train Accuracy  f1 score\n",
       "0        Random forest          98.11           99.87    0.9987\n",
       "1        Decision tree          96.84           99.87    0.9987\n",
       "2  Logistic regression          41.90           44.97    0.4484\n",
       "3       Multinomial NB          32.42           41.07    0.4062\n",
       "4          Gaussian NB          59.31           49.67    0.4947\n",
       "5    Gradient boosting          80.76           83.21    0.8321"
      ]
     },
     "execution_count": 123,
     "metadata": {},
     "output_type": "execute_result"
    }
   ],
   "source": [
    "data = {\"MODEL\":pd.Series([\"Random forest\",\"Decision tree\",\"Logistic regression\",'Multinomial NB',\n",
    "        \"Gaussian NB\",'Gradient boosting']),\n",
    "        \"Test Accuracy\":pd.Series([acc_rf,acc_dt,acc_logreg,acc_multinb,acc_gaussnb,acc_gb]),\n",
    "        'Train Accuracy':pd.Series([train_accrf,train_accdt,train_acclogreg,train_accmnb,train_accgnb,train_accgb]),\n",
    "        'f1 score': pd.Series([f1_rf,f1_dt,f1_logreg,f1_mnb,f1_gnb,f1_gb])}\n",
    "table=pd.DataFrame(data)\n",
    "table"
   ]
  },
  {
   "cell_type": "markdown",
   "metadata": {
    "id": "rVHET0gCyaQm"
   },
   "source": [
    "**Impact prediction using Random forest model showed the highest accuracy and f1-score. Therefore, this model is used for deployment to predict the impact of the incidents. (High,Medium and Low)**"
   ]
  },
  {
   "cell_type": "markdown",
   "metadata": {},
   "source": [
    "## Pickle File"
   ]
  },
  {
   "cell_type": "code",
   "execution_count": 127,
   "metadata": {
    "id": "70dh-i1tyu-J"
   },
   "outputs": [],
   "source": [
    "import pickle as p\n",
    "p_out  = open(\"model_rf.pkl\", \"wb\")\n",
    "p.dump(model_rf, p_out)\n",
    "p_out.close()"
   ]
  },
  {
   "cell_type": "code",
   "execution_count": null,
   "metadata": {},
   "outputs": [],
   "source": []
  },
  {
   "cell_type": "code",
   "execution_count": null,
   "metadata": {},
   "outputs": [],
   "source": []
  },
  {
   "cell_type": "code",
   "execution_count": null,
   "metadata": {},
   "outputs": [],
   "source": []
  },
  {
   "cell_type": "code",
   "execution_count": null,
   "metadata": {},
   "outputs": [],
   "source": []
  }
 ],
 "metadata": {
  "colab": {
   "collapsed_sections": [],
   "name": "Model_building.ipynb",
   "provenance": []
  },
  "kernelspec": {
   "display_name": "Python 3",
   "language": "python",
   "name": "python3"
  },
  "language_info": {
   "codemirror_mode": {
    "name": "ipython",
    "version": 3
   },
   "file_extension": ".py",
   "mimetype": "text/x-python",
   "name": "python",
   "nbconvert_exporter": "python",
   "pygments_lexer": "ipython3",
   "version": "3.8.5"
  },
  "toc": {
   "base_numbering": 1,
   "nav_menu": {},
   "number_sections": true,
   "sideBar": true,
   "skip_h1_title": false,
   "title_cell": "Table of Contents",
   "title_sidebar": "Contents",
   "toc_cell": false,
   "toc_position": {
    "height": "calc(100% - 180px)",
    "left": "10px",
    "top": "150px",
    "width": "279.273px"
   },
   "toc_section_display": true,
   "toc_window_display": false
  },
  "varInspector": {
   "cols": {
    "lenName": 16,
    "lenType": 16,
    "lenVar": 40
   },
   "kernels_config": {
    "python": {
     "delete_cmd_postfix": "",
     "delete_cmd_prefix": "del ",
     "library": "var_list.py",
     "varRefreshCmd": "print(var_dic_list())"
    },
    "r": {
     "delete_cmd_postfix": ") ",
     "delete_cmd_prefix": "rm(",
     "library": "var_list.r",
     "varRefreshCmd": "cat(var_dic_list()) "
    }
   },
   "types_to_exclude": [
    "module",
    "function",
    "builtin_function_or_method",
    "instance",
    "_Feature"
   ],
   "window_display": false
  }
 },
 "nbformat": 4,
 "nbformat_minor": 1
}
